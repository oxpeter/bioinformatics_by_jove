{
 "cells": [
  {
   "cell_type": "markdown",
   "metadata": {},
   "source": [
    "# My Favourite Tool: Jupyter notebooks\n",
    "\n",
    "www.tinyurl.com/MFTJupyter\n",
    "\n",
    "An open source web-application that allows the weaving together of:\n",
    "* code \n",
    "* interactive graphical outputs \n",
    "* narrative text\n",
    "\n",
    "**Improving the communication, dissemination, and reproduction of scientific analyses**\n",
    "\n",
    "## A quick demonstration:"
   ]
  },
  {
   "cell_type": "code",
   "execution_count": 1,
   "metadata": {},
   "outputs": [],
   "source": [
    "# load modules for analysis and visualization:\n",
    "%matplotlib inline\n",
    "import matplotlib.pyplot as plt\n",
    "import pandas as pd\n",
    "from ipywidgets import interact_manual"
   ]
  },
  {
   "cell_type": "code",
   "execution_count": 2,
   "metadata": {},
   "outputs": [],
   "source": [
    "sp_short = ['Dqua', 'Orug','Hsal', 'Cpla', 'Obir', 'Sinv', 'Aech']\n",
    "pvs = [\"{}_padj\".format(sp,\"padj\") for sp in sp_short]         # a list of all the pvalue columns\n",
    "lfc_cols = [ \"{}_log2FoldChange\".format(s) for s in sp_short ] # a list of all the LFC columns"
   ]
  },
  {
   "cell_type": "markdown",
   "metadata": {},
   "source": [
    "load data:"
   ]
  },
  {
   "cell_type": "code",
   "execution_count": 3,
   "metadata": {},
   "outputs": [],
   "source": [
    "df_combined = pd.read_csv(\"ortholog_pvalue_table.csv\", index_col=0)"
   ]
  },
  {
   "cell_type": "code",
   "execution_count": 4,
   "metadata": {},
   "outputs": [],
   "source": [
    "def view_gene(choice=\"Obir|LOC105278524\"):\n",
    "    # plot the log2FoldChange of all genes of interest\n",
    "    df = df_combined[df_combined.Obir == choice]\n",
    "    if len(df) == 0:\n",
    "        return \"No gene found\"\n",
    "    \n",
    "    ax = df[[\"Obir\"] + lfc_cols].set_index(\"Obir\").plot.bar(figsize=(10,5))\n",
    "\n",
    "    # get the pvalues of these genes:\n",
    "    df_cpvals = df[[\"Obir\"] + pvs].set_index(\"Obir\")\n",
    "\n",
    "    # annotate the signicantly differentially expressed genes with an asterisk\n",
    "    x_pos = [rect.get_x() + rect.get_width()/2. for rect in ax.patches]\n",
    "    y_pos = [rect.get_y() + rect.get_height() -0.35 + 0.2*(rect.get_height())/abs(rect.get_height()) for rect in ax.patches]\n",
    "    scores = [{1:\"*\",0:\"\"}[p<=0.05] for p in df_cpvals.values.flatten(\"F\")]\n",
    "    for rect, x, y, s in zip(ax.patches, x_pos, y_pos, scores):\n",
    "            ax.text(x, \n",
    "                    y,\n",
    "                    s,\n",
    "                    ha='center', va='bottom',\n",
    "                    size=32,\n",
    "                    color='r'\n",
    "                   )\n",
    "\n",
    "    # add axes labels\n",
    "    plt.ylabel(\"log2(fold-change)\", size=16)\n",
    "    plt.yticks(size=14)\n",
    "    plt.xlabel(ax.get_xticklabels()[0].get_text(), size=16)\n",
    "    plt.xticks([], [])\n",
    "    \n",
    "    plt.legend(bbox_to_anchor=(1.05, 1), loc=2, borderaxespad=0.0, prop={'size': 16});"
   ]
  },
  {
   "cell_type": "code",
   "execution_count": 5,
   "metadata": {},
   "outputs": [
    {
     "data": {
      "application/vnd.jupyter.widget-view+json": {
       "model_id": "330a62fc528846cf9c0f4f3dcbfe0166",
       "version_major": 2,
       "version_minor": 0
      },
      "text/plain": [
       "interactive(children=(Text(value='Obir|LOC105278524', description='choice'), Button(description='Run Interact'…"
      ]
     },
     "metadata": {},
     "output_type": "display_data"
    }
   ],
   "source": [
    "interact_manual(view_gene, choice=\"Obir|LOC105278524\");"
   ]
  },
  {
   "cell_type": "markdown",
   "metadata": {},
   "source": [
    "# Want to know more?\n",
    "* Try out this Jupyter notebook yourself: www.tinyurl.com/MFTJupyter \n",
    "* Install Jupyter on your computer: https://anaconda.org\n",
    "* Sharing code with MyBinder: https://mybinder.org\n",
    "* Jupyterhub - collaborative access to notebooks\n",
    "* Jupyterlab - the next generation of jupyter notebooks\n",
    "    * simultaneous coding in notebooks\n",
    "    * drag and drop cells between notebooks\n",
    "    * chat box with drag and drop\n",
    "    * and much more..."
   ]
  },
  {
   "cell_type": "code",
   "execution_count": null,
   "metadata": {},
   "outputs": [],
   "source": []
  }
 ],
 "metadata": {
  "anaconda-cloud": {},
  "kernelspec": {
   "display_name": "Python 3",
   "language": "python",
   "name": "python3"
  },
  "language_info": {
   "codemirror_mode": {
    "name": "ipython",
    "version": 3
   },
   "file_extension": ".py",
   "mimetype": "text/x-python",
   "name": "python",
   "nbconvert_exporter": "python",
   "pygments_lexer": "ipython3",
   "version": "3.6.5"
  },
  "toc": {
   "colors": {
    "hover_highlight": "#DAA520",
    "navigate_num": "#000000",
    "navigate_text": "#333333",
    "running_highlight": "#FF0000",
    "selected_highlight": "#FFD700",
    "sidebar_border": "#EEEEEE",
    "wrapper_background": "#FFFFFF"
   },
   "moveMenuLeft": true,
   "nav_menu": {
    "height": "66px",
    "width": "252px"
   },
   "navigate_menu": true,
   "number_sections": false,
   "sideBar": true,
   "threshold": 4,
   "toc_cell": true,
   "toc_section_display": "block",
   "toc_window_display": false,
   "widenNotebook": false
  }
 },
 "nbformat": 4,
 "nbformat_minor": 2
}
