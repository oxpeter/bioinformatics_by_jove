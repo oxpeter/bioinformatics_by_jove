{
 "cells": [
  {
   "cell_type": "markdown",
   "metadata": {
    "toc": "true"
   },
   "source": [
    "# Table of Contents\n",
    " <p><div class=\"lev1 toc-item\"><a href=\"#Wednesday,-6pm---4,280,000,000-BCE\" data-toc-modified-id=\"Wednesday,-6pm---4,280,000,000-BCE-1\"><span class=\"toc-item-num\">1&nbsp;&nbsp;</span>Wednesday, 6pm - 4,280,000,000 BCE</a></div><div class=\"lev1 toc-item\"><a href=\"#1953-Watson-and-Crick-publish-work-describing-the-structure-of-DNA\" data-toc-modified-id=\"1953-Watson-and-Crick-publish-work-describing-the-structure-of-DNA-2\"><span class=\"toc-item-num\">2&nbsp;&nbsp;</span>1953 Watson and Crick publish work describing the structure of DNA</a></div><div class=\"lev1 toc-item\"><a href=\"#1965-Sanger-DNA-sequencing-becomes-available\" data-toc-modified-id=\"1965-Sanger-DNA-sequencing-becomes-available-3\"><span class=\"toc-item-num\">3&nbsp;&nbsp;</span>1965 Sanger DNA sequencing becomes available</a></div><div class=\"lev1 toc-item\"><a href=\"#2001-Draft-human-genome-published\" data-toc-modified-id=\"2001-Draft-human-genome-published-4\"><span class=\"toc-item-num\">4&nbsp;&nbsp;</span>2001 Draft human genome published</a></div><div class=\"lev2 toc-item\"><a href=\"#Central-Dogma-of-molecular-biology\" data-toc-modified-id=\"Central-Dogma-of-molecular-biology-41\"><span class=\"toc-item-num\">4.1&nbsp;&nbsp;</span>Central Dogma of molecular biology</a></div><div class=\"lev2 toc-item\"><a href=\"#Since-then,-sequencing-costs-have-continued-to-decrease...\" data-toc-modified-id=\"Since-then,-sequencing-costs-have-continued-to-decrease...-42\"><span class=\"toc-item-num\">4.2&nbsp;&nbsp;</span>Since then, sequencing costs have continued to decrease...</a></div><div class=\"lev2 toc-item\"><a href=\"#...while-the-quantity-of-genomic-data-continues-to-increase\" data-toc-modified-id=\"...while-the-quantity-of-genomic-data-continues-to-increase-43\"><span class=\"toc-item-num\">4.3&nbsp;&nbsp;</span>...while the quantity of genomic data continues to increase</a></div><div class=\"lev1 toc-item\"><a href=\"#PART-II:\" data-toc-modified-id=\"PART-II:-5\"><span class=\"toc-item-num\">5&nbsp;&nbsp;</span>PART II:</a></div><div class=\"lev1 toc-item\"><a href=\"#Demonstration-of-Jupyter-notebooks-for-reproducibility-in-science\" data-toc-modified-id=\"Demonstration-of-Jupyter-notebooks-for-reproducibility-in-science-6\"><span class=\"toc-item-num\">6&nbsp;&nbsp;</span>Demonstration of Jupyter notebooks for reproducibility in science</a></div><div class=\"lev1 toc-item\"><a href=\"#Create-data-frames-of-p_values-for-all-species\" data-toc-modified-id=\"Create-data-frames-of-p_values-for-all-species-7\"><span class=\"toc-item-num\">7&nbsp;&nbsp;</span>Create data frames of p_values for all species</a></div><div class=\"lev2 toc-item\"><a href=\"#Create-table-of-orthologs\" data-toc-modified-id=\"Create-table-of-orthologs-71\"><span class=\"toc-item-num\">7.1&nbsp;&nbsp;</span>Create table of orthologs</a></div><div class=\"lev4 toc-item\"><a href=\"#Create-new-columns-to-allow-filtering-to-single-copy-orthologs\" data-toc-modified-id=\"Create-new-columns-to-allow-filtering-to-single-copy-orthologs-7101\"><span class=\"toc-item-num\">7.1.0.1&nbsp;&nbsp;</span>Create new columns to allow filtering to single copy orthologs</a></div><div class=\"lev1 toc-item\"><a href=\"#Join-the-p-value-files-together\" data-toc-modified-id=\"Join-the-p-value-files-together-8\"><span class=\"toc-item-num\">8&nbsp;&nbsp;</span>Join the p-value files together</a></div><div class=\"lev1 toc-item\"><a href=\"#Interactively-check-table-for-all-significant-genes\" data-toc-modified-id=\"Interactively-check-table-for-all-significant-genes-9\"><span class=\"toc-item-num\">9&nbsp;&nbsp;</span>Interactively check table for all significant genes</a></div><div class=\"lev4 toc-item\"><a href=\"#Check-number-of-orthologous-DEGs-per-species\" data-toc-modified-id=\"Check-number-of-orthologous-DEGs-per-species-9001\"><span class=\"toc-item-num\">9.0.0.1&nbsp;&nbsp;</span>Check number of orthologous DEGs per species</a></div><div class=\"lev1 toc-item\"><a href=\"#Find-number-of-concordant-DEGs\" data-toc-modified-id=\"Find-number-of-concordant-DEGs-10\"><span class=\"toc-item-num\">10&nbsp;&nbsp;</span>Find number of concordant DEGs</a></div><div class=\"lev1 toc-item\"><a href=\"#Calculate-average-concordance\" data-toc-modified-id=\"Calculate-average-concordance-11\"><span class=\"toc-item-num\">11&nbsp;&nbsp;</span>Calculate average concordance</a></div><div class=\"lev1 toc-item\"><a href=\"#Concordance-Simulations\" data-toc-modified-id=\"Concordance-Simulations-12\"><span class=\"toc-item-num\">12&nbsp;&nbsp;</span>Concordance Simulations</a></div><div class=\"lev1 toc-item\"><a href=\"#combine-both-datasets\" data-toc-modified-id=\"combine-both-datasets-13\"><span class=\"toc-item-num\">13&nbsp;&nbsp;</span>combine both datasets</a></div><div class=\"lev1 toc-item\"><a href=\"#Want-to-know-more?\" data-toc-modified-id=\"Want-to-know-more?-14\"><span class=\"toc-item-num\">14&nbsp;&nbsp;</span>Want to know more?</a></div>"
   ]
  },
  {
   "cell_type": "markdown",
   "metadata": {},
   "source": [
    "# Wednesday, 6pm - 4,280,000,000 BCE\n",
    "First conditions for bioinformatics are met."
   ]
  },
  {
   "cell_type": "markdown",
   "metadata": {},
   "source": [
    "# 1953 Watson and Crick publish work describing the structure of DNA\n",
    "\n",
    "![Crystal structure of DNA](img/DNA_crystal_structure.jpg) (With much help from Rosalind Franklin's data)"
   ]
  },
  {
   "cell_type": "markdown",
   "metadata": {},
   "source": [
    "# 1965 Sanger DNA sequencing becomes available"
   ]
  },
  {
   "cell_type": "markdown",
   "metadata": {},
   "source": [
    "\n",
    "![autorad](img/sequence-autorad-small.jpeg)\n",
    "\n",
    "Autoradiograph of DNA sequence."
   ]
  },
  {
   "cell_type": "markdown",
   "metadata": {},
   "source": [
    "."
   ]
  },
  {
   "cell_type": "markdown",
   "metadata": {},
   "source": [
    "# 2001 Draft human genome published"
   ]
  },
  {
   "cell_type": "markdown",
   "metadata": {},
   "source": [
    "The draft human genome took 15 months, and approximately $300 million to sequence (NIH sponsored ~55%)\n",
    "\n",
    "Correctly seen as a huge milestone in genetics\n",
    "\n",
    "But we had no appreciation of just how much farther we had to go...\n"
   ]
  },
  {
   "cell_type": "markdown",
   "metadata": {},
   "source": [
    "## Central Dogma of molecular biology\n",
    "**DNA --> RNA --> Protein**\n",
    "\n",
    "![dogma](img/dna_to_protein.png)\n",
    "\n",
    "* Genes - the parts of DNA that code for proteins - only make up 1-2% of the genome.\n",
    "* The rest is not just \"junk\" DNA, however.\n",
    "* Between 10% and 20% of the non-coding DNA is functional, to the extent that modifying the sequence will affect the system."
   ]
  },
  {
   "cell_type": "markdown",
   "metadata": {},
   "source": [
    "## Since then, sequencing costs have continued to decrease...\n",
    "Let's look at some timecourse data from NHGRI Genome Sequencing Program (https://www.genome.gov/27541954/dna-sequencing-costs-data/)\n",
    "\n"
   ]
  },
  {
   "cell_type": "code",
   "execution_count": 1,
   "metadata": {},
   "outputs": [],
   "source": [
    "# set graphical output to appear within the notebook:\n",
    "%matplotlib inline\n",
    "import matplotlib.pyplot as plt"
   ]
  },
  {
   "cell_type": "code",
   "execution_count": 2,
   "metadata": {},
   "outputs": [],
   "source": [
    "# import modules for manipulating and visualizing data:\n",
    "import numpy as np\n",
    "import pandas as pd\n",
    "import seaborn as sns"
   ]
  },
  {
   "cell_type": "code",
   "execution_count": 3,
   "metadata": {},
   "outputs": [],
   "source": [
    "# import sequencing cost data from https://www.genome.gov/27541954/dna-sequencing-costs-data/\n",
    "df_sequencing_costs = pd.read_excel(\"sequencing_costs_table_july_2017.xlsx\")"
   ]
  },
  {
   "cell_type": "code",
   "execution_count": 4,
   "metadata": {},
   "outputs": [
    {
     "data": {
      "text/html": [
       "<div>\n",
       "<style>\n",
       "    .dataframe thead tr:only-child th {\n",
       "        text-align: right;\n",
       "    }\n",
       "\n",
       "    .dataframe thead th {\n",
       "        text-align: left;\n",
       "    }\n",
       "\n",
       "    .dataframe tbody tr th {\n",
       "        vertical-align: top;\n",
       "    }\n",
       "</style>\n",
       "<table border=\"1\" class=\"dataframe\">\n",
       "  <thead>\n",
       "    <tr style=\"text-align: right;\">\n",
       "      <th></th>\n",
       "      <th>Date</th>\n",
       "      <th>Cost per Mb</th>\n",
       "      <th>Production (Mb)</th>\n",
       "      <th>Cost per Genome</th>\n",
       "    </tr>\n",
       "  </thead>\n",
       "  <tbody>\n",
       "    <tr>\n",
       "      <th>0</th>\n",
       "      <td>2001-09-30</td>\n",
       "      <td>5292.392885</td>\n",
       "      <td>16200.361555</td>\n",
       "      <td>9.526307e+07</td>\n",
       "    </tr>\n",
       "    <tr>\n",
       "      <th>1</th>\n",
       "      <td>2002-03-31</td>\n",
       "      <td>3898.635412</td>\n",
       "      <td>16111.170305</td>\n",
       "      <td>7.017544e+07</td>\n",
       "    </tr>\n",
       "    <tr>\n",
       "      <th>2</th>\n",
       "      <td>2002-09-30</td>\n",
       "      <td>3413.801195</td>\n",
       "      <td>18733.953791</td>\n",
       "      <td>6.144842e+07</td>\n",
       "    </tr>\n",
       "    <tr>\n",
       "      <th>3</th>\n",
       "      <td>2003-03-31</td>\n",
       "      <td>2986.204671</td>\n",
       "      <td>23045.156321</td>\n",
       "      <td>5.375168e+07</td>\n",
       "    </tr>\n",
       "    <tr>\n",
       "      <th>4</th>\n",
       "      <td>2003-10-31</td>\n",
       "      <td>2230.975235</td>\n",
       "      <td>38343.979177</td>\n",
       "      <td>4.015755e+07</td>\n",
       "    </tr>\n",
       "  </tbody>\n",
       "</table>\n",
       "</div>"
      ],
      "text/plain": [
       "        Date  Cost per Mb  Production (Mb)  Cost per Genome\n",
       "0 2001-09-30  5292.392885     16200.361555     9.526307e+07\n",
       "1 2002-03-31  3898.635412     16111.170305     7.017544e+07\n",
       "2 2002-09-30  3413.801195     18733.953791     6.144842e+07\n",
       "3 2003-03-31  2986.204671     23045.156321     5.375168e+07\n",
       "4 2003-10-31  2230.975235     38343.979177     4.015755e+07"
      ]
     },
     "execution_count": 4,
     "metadata": {},
     "output_type": "execute_result"
    }
   ],
   "source": [
    "df_sequencing_costs.head()"
   ]
  },
  {
   "cell_type": "code",
   "execution_count": 5,
   "metadata": {},
   "outputs": [
    {
     "data": {
      "image/png": "[encoded data removed]",
      "text/plain": [
       "<matplotlib.figure.Figure at 0x115a3ae80>"
      ]
     },
     "metadata": {},
     "output_type": "display_data"
    }
   ],
   "source": [
    "# plot costs using a log scale:\n",
    "ax = np.log(df_sequencing_costs.set_index(\"Date\")[\"Cost per Mb\"]).plot(figsize=(12,6))\n",
    "\n",
    "# convert log(values) of y axis back to dollar values:\n",
    "plt.yticks(ax.get_yticks(),\n",
    "           [\"${:,.2f}\".format(np.exp(yv)) for yv in ax.get_yticks()])\n",
    "\n",
    "# annotate start of NGS era on the graph:\n",
    "ax.text(np.mean(ax.get_xticks()[2:4]),6.1,\"Next Generation Sequencing\", fontsize=14, color=\"red\")\n",
    "\n",
    "# label axes\n",
    "plt.title(\"Cost of sequencing\\n($ per million base pairs)\", size=24)\n",
    "plt.xticks(size=14)\n",
    "plt.xlabel(\"\")\n",
    "plt.yticks(size=14);"
   ]
  },
  {
   "cell_type": "markdown",
   "metadata": {},
   "source": [
    "## ...while the quantity of genomic data continues to increase"
   ]
  },
  {
   "cell_type": "code",
   "execution_count": 6,
   "metadata": {},
   "outputs": [],
   "source": [
    "# search NCBI for number of records found in geo database in year 'yr'\n",
    "\n",
    "gds_count = {2000: 12,\n",
    "             2001: 698,\n",
    "             2002: 2274,\n",
    "             2003: 8870,\n",
    "             2004: 19685,\n",
    "             2005: 38140,\n",
    "             2006: 49170,\n",
    "             2007: 82496,\n",
    "             2008: 89614,\n",
    "             2009: 117020,\n",
    "             2010: 133317,\n",
    "             2011: 172289,\n",
    "             2012: 187958,\n",
    "             2013: 213740,\n",
    "             2014: 263238,\n",
    "             2015: 277705,\n",
    "             2016: 363381}\n",
    "\"\"\"\n",
    "for yr in np.arange(2000,2017,1): \n",
    "    # the exclamation mark indicates that the following command is executed in the shell,\n",
    "    # with the output saved as a variable (\"count\") in python\n",
    "    count = !./bin/esearch -db gds -query \"{yr}:{yr}[PDAT]\" | ./bin/xtract -pattern ENTREZ_DIRECT -element Count\n",
    "    gds_count[yr] = int(count.s)\n",
    "\"\"\"\n",
    "# create dataframe of counts\n",
    "df_gds = pd.DataFrame(gds_count, index=[0])"
   ]
  },
  {
   "cell_type": "code",
   "execution_count": 7,
   "metadata": {},
   "outputs": [
    {
     "data": {
      "image/png": "[encoded data removed]",
      "text/plain": [
       "<matplotlib.figure.Figure at 0x115b5acf8>"
      ]
     },
     "metadata": {},
     "output_type": "display_data"
    }
   ],
   "source": [
    "df_gds.T.plot.bar(figsize=(12,5))  # plot data as bar chart\n",
    "\n",
    "plt.legend(\"\")         # remove legend\n",
    "plt.xticks(size=16)    # resize x-axis font\n",
    "plt.yticks(size=16)    # resize y-axis font\n",
    "plt.title(\"Number of sequencing datasets submitted to GEO database\", size=18); # add a title"
   ]
  },
  {
   "cell_type": "markdown",
   "metadata": {},
   "source": []
  },
  {
   "cell_type": "markdown",
   "metadata": {},
   "source": [
    "# PART II:\n",
    "# Demonstration of Jupyter notebooks for reproducibility in science"
   ]
  },
  {
   "cell_type": "markdown",
   "metadata": {},
   "source": [
    "# Create data frames of p_values for all species\n",
    "Location of p-value files from deseq and ortholog families from orthomcl determined through log files of ortholog analyses used for identifying ILP2 and Zn-finger."
   ]
  },
  {
   "cell_type": "code",
   "execution_count": 8,
   "metadata": {},
   "outputs": [],
   "source": [
    "species = ['Dinoponera', 'Odontomachus','Harpegnathos', 'Camponotus', 'Ooceraea', 'Solenopsis', 'Acromyrmex']\n",
    "sp_short = ['Dqua', 'Orug','Hsal', 'Cpla', 'Obir', 'Sinv', 'Aech']\n",
    "all_pvalues = [\n",
    "            'DESeq2_results_Dinoponera.csv',\n",
    "            'DESeq2_results_Odontomachus.csv',\n",
    "            'DESeq2_results_Harpegnathos.csv',\n",
    "            'DESeq2_results_Camponotus.csv',\n",
    "            'DESeq2_results_Ooceraea.csv',\n",
    "            'DESeq2_results_Solenopsis.csv',\n",
    "            'DESeq2_results_Acromyrmex.csv',\n",
    "              ]\n",
    "orthologs = 'mclGroups.txt'"
   ]
  },
  {
   "cell_type": "code",
   "execution_count": 9,
   "metadata": {},
   "outputs": [],
   "source": [
    "# create a dictionary of dataframes, with key being the genus.\n",
    "df_pval_dic = { sp:pd.read_csv(fp, sep=',', index_col=0) for sp, fp in zip(species,all_pvalues) }    "
   ]
  },
  {
   "cell_type": "code",
   "execution_count": 10,
   "metadata": {},
   "outputs": [
    {
     "name": "stdout",
     "output_type": "stream",
     "text": [
      "Dinoponera   11544 genes, 6 columns\n",
      "Odontomachus 25606 genes, 6 columns\n",
      "Harpegnathos 12302 genes, 6 columns\n",
      "Camponotus   25774 genes, 6 columns\n",
      "Ooceraea     13640 genes, 6 columns\n",
      "Solenopsis   15103 genes, 6 columns\n",
      "Acromyrmex   12176 genes, 6 columns\n"
     ]
    }
   ],
   "source": [
    "for sp in species:\n",
    "    print(\"{0:<12} {1} genes, {2} columns\".format(sp, \n",
    "                                                  df_pval_dic[sp].shape[0], \n",
    "                                                  df_pval_dic[sp].shape[1]\n",
    "                                                 )\n",
    "         )"
   ]
  },
  {
   "cell_type": "code",
   "execution_count": 11,
   "metadata": {},
   "outputs": [
    {
     "data": {
      "text/html": [
       "<style  type=\"text/css\" >\n",
       "    #T_82eb00cc_ce51_11e7_bf84_c4b301c10387row0_col1 {\n",
       "            background-color:  #2b691a;\n",
       "        }    #T_82eb00cc_ce51_11e7_bf84_c4b301c10387row1_col1 {\n",
       "            background-color:  #306f1b;\n",
       "        }    #T_82eb00cc_ce51_11e7_bf84_c4b301c10387row2_col1 {\n",
       "            background-color:  #d04493;\n",
       "        }    #T_82eb00cc_ce51_11e7_bf84_c4b301c10387row3_col1 {\n",
       "            background-color:  #8e0152;\n",
       "        }    #T_82eb00cc_ce51_11e7_bf84_c4b301c10387row4_col1 {\n",
       "            background-color:  #c62080;\n",
       "        }</style>  \n",
       "<table id=\"T_82eb00cc_ce51_11e7_bf84_c4b301c10387\" > \n",
       "<thead>    <tr> \n",
       "        <th class=\"blank level0\" ></th> \n",
       "        <th class=\"col_heading level0 col0\" >baseMean</th> \n",
       "        <th class=\"col_heading level0 col1\" >log2FoldChange</th> \n",
       "        <th class=\"col_heading level0 col2\" >lfcSE</th> \n",
       "        <th class=\"col_heading level0 col3\" >stat</th> \n",
       "        <th class=\"col_heading level0 col4\" >pvalue</th> \n",
       "        <th class=\"col_heading level0 col5\" >padj</th> \n",
       "    </tr></thead> \n",
       "<tbody>    <tr> \n",
       "        <th id=\"T_82eb00cc_ce51_11e7_bf84_c4b301c10387level0_row0\" class=\"row_heading level0 row0\" >Dqua|LOC106751227</th> \n",
       "        <td id=\"T_82eb00cc_ce51_11e7_bf84_c4b301c10387row0_col0\" class=\"data row0 col0\" >300.154</td> \n",
       "        <td id=\"T_82eb00cc_ce51_11e7_bf84_c4b301c10387row0_col1\" class=\"data row0 col1\" >4.55772</td> \n",
       "        <td id=\"T_82eb00cc_ce51_11e7_bf84_c4b301c10387row0_col2\" class=\"data row0 col2\" >0.378444</td> \n",
       "        <td id=\"T_82eb00cc_ce51_11e7_bf84_c4b301c10387row0_col3\" class=\"data row0 col3\" >12.0433</td> \n",
       "        <td id=\"T_82eb00cc_ce51_11e7_bf84_c4b301c10387row0_col4\" class=\"data row0 col4\" >2.1033e-33</td> \n",
       "        <td id=\"T_82eb00cc_ce51_11e7_bf84_c4b301c10387row0_col5\" class=\"data row0 col5\" >2.13358e-29</td> \n",
       "    </tr>    <tr> \n",
       "        <th id=\"T_82eb00cc_ce51_11e7_bf84_c4b301c10387level0_row1\" class=\"row_heading level0 row1\" >Dqua|LOC106748522</th> \n",
       "        <td id=\"T_82eb00cc_ce51_11e7_bf84_c4b301c10387row1_col0\" class=\"data row1 col0\" >92.9108</td> \n",
       "        <td id=\"T_82eb00cc_ce51_11e7_bf84_c4b301c10387row1_col1\" class=\"data row1 col1\" >4.46794</td> \n",
       "        <td id=\"T_82eb00cc_ce51_11e7_bf84_c4b301c10387row1_col2\" class=\"data row1 col2\" >0.375646</td> \n",
       "        <td id=\"T_82eb00cc_ce51_11e7_bf84_c4b301c10387row1_col3\" class=\"data row1 col3\" >11.894</td> \n",
       "        <td id=\"T_82eb00cc_ce51_11e7_bf84_c4b301c10387row1_col4\" class=\"data row1 col4\" >1.27149e-32</td> \n",
       "        <td id=\"T_82eb00cc_ce51_11e7_bf84_c4b301c10387row1_col5\" class=\"data row1 col5\" >6.44902e-29</td> \n",
       "    </tr>    <tr> \n",
       "        <th id=\"T_82eb00cc_ce51_11e7_bf84_c4b301c10387level0_row2\" class=\"row_heading level0 row2\" >Dqua|LOC106745803</th> \n",
       "        <td id=\"T_82eb00cc_ce51_11e7_bf84_c4b301c10387row2_col0\" class=\"data row2 col0\" >4501.59</td> \n",
       "        <td id=\"T_82eb00cc_ce51_11e7_bf84_c4b301c10387row2_col1\" class=\"data row2 col1\" >-1.8913</td> \n",
       "        <td id=\"T_82eb00cc_ce51_11e7_bf84_c4b301c10387row2_col2\" class=\"data row2 col2\" >0.237467</td> \n",
       "        <td id=\"T_82eb00cc_ce51_11e7_bf84_c4b301c10387row2_col3\" class=\"data row2 col3\" >-7.96447</td> \n",
       "        <td id=\"T_82eb00cc_ce51_11e7_bf84_c4b301c10387row2_col4\" class=\"data row2 col4\" >1.65938e-15</td> \n",
       "        <td id=\"T_82eb00cc_ce51_11e7_bf84_c4b301c10387row2_col5\" class=\"data row2 col5\" >4.83316e-12</td> \n",
       "    </tr>    <tr> \n",
       "        <th id=\"T_82eb00cc_ce51_11e7_bf84_c4b301c10387level0_row3\" class=\"row_heading level0 row3\" >Dqua|LOC106750236</th> \n",
       "        <td id=\"T_82eb00cc_ce51_11e7_bf84_c4b301c10387row3_col0\" class=\"data row3 col0\" >340.535</td> \n",
       "        <td id=\"T_82eb00cc_ce51_11e7_bf84_c4b301c10387row3_col1\" class=\"data row3 col1\" >-3.13766</td> \n",
       "        <td id=\"T_82eb00cc_ce51_11e7_bf84_c4b301c10387row3_col2\" class=\"data row3 col2\" >0.394807</td> \n",
       "        <td id=\"T_82eb00cc_ce51_11e7_bf84_c4b301c10387row3_col3\" class=\"data row3 col3\" >-7.94732</td> \n",
       "        <td id=\"T_82eb00cc_ce51_11e7_bf84_c4b301c10387row3_col4\" class=\"data row3 col4\" >1.90582e-15</td> \n",
       "        <td id=\"T_82eb00cc_ce51_11e7_bf84_c4b301c10387row3_col5\" class=\"data row3 col5\" >4.83316e-12</td> \n",
       "    </tr>    <tr> \n",
       "        <th id=\"T_82eb00cc_ce51_11e7_bf84_c4b301c10387level0_row4\" class=\"row_heading level0 row4\" >Dqua|LOC106748393</th> \n",
       "        <td id=\"T_82eb00cc_ce51_11e7_bf84_c4b301c10387row4_col0\" class=\"data row4 col0\" >260.116</td> \n",
       "        <td id=\"T_82eb00cc_ce51_11e7_bf84_c4b301c10387row4_col1\" class=\"data row4 col1\" >-2.1948</td> \n",
       "        <td id=\"T_82eb00cc_ce51_11e7_bf84_c4b301c10387row4_col2\" class=\"data row4 col2\" >0.290329</td> \n",
       "        <td id=\"T_82eb00cc_ce51_11e7_bf84_c4b301c10387row4_col3\" class=\"data row4 col3\" >-7.55968</td> \n",
       "        <td id=\"T_82eb00cc_ce51_11e7_bf84_c4b301c10387row4_col4\" class=\"data row4 col4\" >4.04055e-14</td> \n",
       "        <td id=\"T_82eb00cc_ce51_11e7_bf84_c4b301c10387row4_col5\" class=\"data row4 col5\" >8.19747e-11</td> \n",
       "    </tr></tbody> \n",
       "</table> "
      ],
      "text/plain": [
       "<pandas.io.formats.style.Styler at 0x115d54710>"
      ]
     },
     "execution_count": 11,
     "metadata": {},
     "output_type": "execute_result"
    }
   ],
   "source": [
    "# check data frames for correct formatting\n",
    "df_pval_dic[\"Dinoponera\"].head().style.background_gradient(cmap=plt.cm.get_cmap(\"PiYG\"), # RdBu\n",
    "                                                           subset=[\"log2FoldChange\"],\n",
    "                                                           low=-0.015,\n",
    "                                                           high=0.015,\n",
    "                                                          )"
   ]
  },
  {
   "cell_type": "markdown",
   "metadata": {},
   "source": [
    "## Create table of orthologs"
   ]
  },
  {
   "cell_type": "code",
   "execution_count": 12,
   "metadata": {},
   "outputs": [],
   "source": [
    "# create dataframe of orthologs\n",
    "df_orthologs = pd.read_csv(orthologs, sep=':', header=None, names=[\"group\",\"orthologs\"])"
   ]
  },
  {
   "cell_type": "code",
   "execution_count": 13,
   "metadata": {},
   "outputs": [
    {
     "data": {
      "text/html": [
       "<div>\n",
       "<style>\n",
       "    .dataframe thead tr:only-child th {\n",
       "        text-align: right;\n",
       "    }\n",
       "\n",
       "    .dataframe thead th {\n",
       "        text-align: left;\n",
       "    }\n",
       "\n",
       "    .dataframe tbody tr th {\n",
       "        vertical-align: top;\n",
       "    }\n",
       "</style>\n",
       "<table border=\"1\" class=\"dataframe\">\n",
       "  <thead>\n",
       "    <tr style=\"text-align: right;\">\n",
       "      <th></th>\n",
       "      <th>group</th>\n",
       "      <th>orthologs</th>\n",
       "    </tr>\n",
       "  </thead>\n",
       "  <tbody>\n",
       "    <tr>\n",
       "      <th>0</th>\n",
       "      <td>ILPpaperGroups1000</td>\n",
       "      <td>Aech|LOC105155080 Cbir|LOC105287483 Obir|LOC1...</td>\n",
       "    </tr>\n",
       "    <tr>\n",
       "      <th>1</th>\n",
       "      <td>ILPpaperGroups1001</td>\n",
       "      <td>Acep|LOC105617370 Acep|LOC105617724 Acep|LOC1...</td>\n",
       "    </tr>\n",
       "    <tr>\n",
       "      <th>2</th>\n",
       "      <td>ILPpaperGroups1002</td>\n",
       "      <td>Acep|LOC105617602 Acep|LOC105621803 Acep|LOC1...</td>\n",
       "    </tr>\n",
       "    <tr>\n",
       "      <th>3</th>\n",
       "      <td>ILPpaperGroups1003</td>\n",
       "      <td>Acep|LOC105619009 Acep|LOC105619010 Acep|LOC1...</td>\n",
       "    </tr>\n",
       "    <tr>\n",
       "      <th>4</th>\n",
       "      <td>ILPpaperGroups1004</td>\n",
       "      <td>Acep|LOC105619475 Cbir|LOC105275943 Cbir|LOC1...</td>\n",
       "    </tr>\n",
       "  </tbody>\n",
       "</table>\n",
       "</div>"
      ],
      "text/plain": [
       "                group                                          orthologs\n",
       "0  ILPpaperGroups1000   Aech|LOC105155080 Cbir|LOC105287483 Obir|LOC1...\n",
       "1  ILPpaperGroups1001   Acep|LOC105617370 Acep|LOC105617724 Acep|LOC1...\n",
       "2  ILPpaperGroups1002   Acep|LOC105617602 Acep|LOC105621803 Acep|LOC1...\n",
       "3  ILPpaperGroups1003   Acep|LOC105619009 Acep|LOC105619010 Acep|LOC1...\n",
       "4  ILPpaperGroups1004   Acep|LOC105619475 Cbir|LOC105275943 Cbir|LOC1..."
      ]
     },
     "execution_count": 13,
     "metadata": {},
     "output_type": "execute_result"
    }
   ],
   "source": [
    "df_orthologs.head()"
   ]
  },
  {
   "cell_type": "markdown",
   "metadata": {},
   "source": [
    "#### Create new columns to allow filtering to single copy orthologs"
   ]
  },
  {
   "cell_type": "code",
   "execution_count": 14,
   "metadata": {},
   "outputs": [],
   "source": [
    "# create column with number of orthologs in group:\n",
    "df_orthologs[\"group_size\"] = df_orthologs.apply(lambda s: len(s[\"orthologs\"].split()), axis=1)\n",
    "\n",
    "# group size only counting the 7 ant species of interest:\n",
    "df_orthologs[\"group_size_7\"] = df_orthologs.apply(lambda s: len([o for o in s[\"orthologs\"].split() if o[:4] in sp_short]), axis=1)\n",
    "\n",
    "# create column with number of unique species present:\n",
    "df_orthologs[\"group_size_unique\"] = df_orthologs.apply(lambda s: len(set([g[:4] for g in s['orthologs'].split()])), axis=1)\n",
    "\n",
    "# unique set of 7 ant species:\n",
    "df_orthologs[\"group_size_7_unique\"] = df_orthologs.apply(lambda s: len(set([g[:4] for g in s['orthologs'].split() if g[:4] in sp_short])), axis=1)"
   ]
  },
  {
   "cell_type": "code",
   "execution_count": 15,
   "metadata": {},
   "outputs": [
    {
     "data": {
      "text/html": [
       "<div>\n",
       "<style>\n",
       "    .dataframe thead tr:only-child th {\n",
       "        text-align: right;\n",
       "    }\n",
       "\n",
       "    .dataframe thead th {\n",
       "        text-align: left;\n",
       "    }\n",
       "\n",
       "    .dataframe tbody tr th {\n",
       "        vertical-align: top;\n",
       "    }\n",
       "</style>\n",
       "<table border=\"1\" class=\"dataframe\">\n",
       "  <thead>\n",
       "    <tr style=\"text-align: right;\">\n",
       "      <th></th>\n",
       "      <th>group</th>\n",
       "      <th>orthologs</th>\n",
       "      <th>group_size</th>\n",
       "      <th>group_size_7</th>\n",
       "      <th>group_size_unique</th>\n",
       "      <th>group_size_7_unique</th>\n",
       "    </tr>\n",
       "  </thead>\n",
       "  <tbody>\n",
       "    <tr>\n",
       "      <th>0</th>\n",
       "      <td>ILPpaperGroups1000</td>\n",
       "      <td>Aech|LOC105155080 Cbir|LOC105287483 Obir|LOC1...</td>\n",
       "      <td>1127</td>\n",
       "      <td>295</td>\n",
       "      <td>17</td>\n",
       "      <td>7</td>\n",
       "    </tr>\n",
       "    <tr>\n",
       "      <th>1</th>\n",
       "      <td>ILPpaperGroups1001</td>\n",
       "      <td>Acep|LOC105617370 Acep|LOC105617724 Acep|LOC1...</td>\n",
       "      <td>292</td>\n",
       "      <td>112</td>\n",
       "      <td>19</td>\n",
       "      <td>7</td>\n",
       "    </tr>\n",
       "    <tr>\n",
       "      <th>2</th>\n",
       "      <td>ILPpaperGroups1002</td>\n",
       "      <td>Acep|LOC105617602 Acep|LOC105621803 Acep|LOC1...</td>\n",
       "      <td>270</td>\n",
       "      <td>99</td>\n",
       "      <td>19</td>\n",
       "      <td>7</td>\n",
       "    </tr>\n",
       "    <tr>\n",
       "      <th>3</th>\n",
       "      <td>ILPpaperGroups1003</td>\n",
       "      <td>Acep|LOC105619009 Acep|LOC105619010 Acep|LOC1...</td>\n",
       "      <td>257</td>\n",
       "      <td>106</td>\n",
       "      <td>19</td>\n",
       "      <td>7</td>\n",
       "    </tr>\n",
       "    <tr>\n",
       "      <th>4</th>\n",
       "      <td>ILPpaperGroups1004</td>\n",
       "      <td>Acep|LOC105619475 Cbir|LOC105275943 Cbir|LOC1...</td>\n",
       "      <td>251</td>\n",
       "      <td>76</td>\n",
       "      <td>16</td>\n",
       "      <td>7</td>\n",
       "    </tr>\n",
       "  </tbody>\n",
       "</table>\n",
       "</div>"
      ],
      "text/plain": [
       "                group                                          orthologs  \\\n",
       "0  ILPpaperGroups1000   Aech|LOC105155080 Cbir|LOC105287483 Obir|LOC1...   \n",
       "1  ILPpaperGroups1001   Acep|LOC105617370 Acep|LOC105617724 Acep|LOC1...   \n",
       "2  ILPpaperGroups1002   Acep|LOC105617602 Acep|LOC105621803 Acep|LOC1...   \n",
       "3  ILPpaperGroups1003   Acep|LOC105619009 Acep|LOC105619010 Acep|LOC1...   \n",
       "4  ILPpaperGroups1004   Acep|LOC105619475 Cbir|LOC105275943 Cbir|LOC1...   \n",
       "\n",
       "   group_size  group_size_7  group_size_unique  group_size_7_unique  \n",
       "0        1127           295                 17                    7  \n",
       "1         292           112                 19                    7  \n",
       "2         270            99                 19                    7  \n",
       "3         257           106                 19                    7  \n",
       "4         251            76                 16                    7  "
      ]
     },
     "execution_count": 15,
     "metadata": {},
     "output_type": "execute_result"
    }
   ],
   "source": [
    "df_orthologs.head()"
   ]
  },
  {
   "cell_type": "code",
   "execution_count": 16,
   "metadata": {},
   "outputs": [],
   "source": [
    "scaos = df_orthologs[(df_orthologs.group_size_7 == len(species)) & (df_orthologs.group_size_7_unique == len(species))]\n",
    "scos = df_orthologs[(df_orthologs.group_size == len(species)) & (df_orthologs.group_size_unique == len(species))]"
   ]
  },
  {
   "cell_type": "code",
   "execution_count": 17,
   "metadata": {},
   "outputs": [
    {
     "data": {
      "text/plain": [
       "(5581, 6)"
      ]
     },
     "execution_count": 17,
     "metadata": {},
     "output_type": "execute_result"
    }
   ],
   "source": [
    "scaos.shape"
   ]
  },
  {
   "cell_type": "markdown",
   "metadata": {},
   "source": [
    "scaos variable (\"single-copy ant orthologs\") is a dataframe containing 5581 single-copy orthologs, based on the ortholog table calculated for many ants, plus other hymenoptera genes."
   ]
  },
  {
   "cell_type": "markdown",
   "metadata": {},
   "source": [
    "# Join the p-value files together\n",
    "All files will be indexed by ortholog group."
   ]
  },
  {
   "cell_type": "code",
   "execution_count": 18,
   "metadata": {},
   "outputs": [],
   "source": [
    "df_combined = scaos.apply(lambda s: pd.Series(sorted([o for o in s[\"orthologs\"].split() if o[:4] in sp_short])), axis=1)\n",
    "df_combined.columns = sorted(sp_short)"
   ]
  },
  {
   "cell_type": "code",
   "execution_count": 19,
   "metadata": {},
   "outputs": [
    {
     "data": {
      "text/html": [
       "<div>\n",
       "<style>\n",
       "    .dataframe thead tr:only-child th {\n",
       "        text-align: right;\n",
       "    }\n",
       "\n",
       "    .dataframe thead th {\n",
       "        text-align: left;\n",
       "    }\n",
       "\n",
       "    .dataframe tbody tr th {\n",
       "        vertical-align: top;\n",
       "    }\n",
       "</style>\n",
       "<table border=\"1\" class=\"dataframe\">\n",
       "  <thead>\n",
       "    <tr style=\"text-align: right;\">\n",
       "      <th></th>\n",
       "      <th>Aech</th>\n",
       "      <th>Cpla</th>\n",
       "      <th>Dqua</th>\n",
       "      <th>Hsal</th>\n",
       "      <th>Obir</th>\n",
       "      <th>Orug</th>\n",
       "      <th>Sinv</th>\n",
       "    </tr>\n",
       "  </thead>\n",
       "  <tbody>\n",
       "    <tr>\n",
       "      <th>305</th>\n",
       "      <td>Aech|LOC105153097</td>\n",
       "      <td>Cpla|SGF61405</td>\n",
       "      <td>Dqua|LOC106749891</td>\n",
       "      <td>Hsal|LOC105181067</td>\n",
       "      <td>Obir|LOC105281216</td>\n",
       "      <td>Orug|SGF68562</td>\n",
       "      <td>Sinv|LOC105201217</td>\n",
       "    </tr>\n",
       "    <tr>\n",
       "      <th>331</th>\n",
       "      <td>Aech|LOC105144379</td>\n",
       "      <td>Cpla|SGF47786</td>\n",
       "      <td>Dqua|LOC106743402</td>\n",
       "      <td>Hsal|LOC105181117</td>\n",
       "      <td>Obir|LOC105282301</td>\n",
       "      <td>Orug|SGF65534</td>\n",
       "      <td>Sinv|LOC105194815</td>\n",
       "    </tr>\n",
       "    <tr>\n",
       "      <th>367</th>\n",
       "      <td>Aech|LOC105154742</td>\n",
       "      <td>Cpla|SGF57622</td>\n",
       "      <td>Dqua|LOC106742675</td>\n",
       "      <td>Hsal|LOC105184475</td>\n",
       "      <td>Obir|LOC105281047</td>\n",
       "      <td>Orug|SGF78634</td>\n",
       "      <td>Sinv|LOC105203057</td>\n",
       "    </tr>\n",
       "    <tr>\n",
       "      <th>413</th>\n",
       "      <td>Aech|LOC105151083</td>\n",
       "      <td>Cpla|SGF65369</td>\n",
       "      <td>Dqua|LOC106742289</td>\n",
       "      <td>Hsal|LOC105180743</td>\n",
       "      <td>Obir|LOC105287676</td>\n",
       "      <td>Orug|SGF86030</td>\n",
       "      <td>Sinv|LOC105198509</td>\n",
       "    </tr>\n",
       "    <tr>\n",
       "      <th>423</th>\n",
       "      <td>Aech|LOC105149040</td>\n",
       "      <td>Cpla|SGF52740</td>\n",
       "      <td>Dqua|LOC106748414</td>\n",
       "      <td>Hsal|LOC105185999</td>\n",
       "      <td>Obir|LOC105277964</td>\n",
       "      <td>Orug|SGF81562</td>\n",
       "      <td>Sinv|LOC105200782</td>\n",
       "    </tr>\n",
       "  </tbody>\n",
       "</table>\n",
       "</div>"
      ],
      "text/plain": [
       "                  Aech           Cpla               Dqua               Hsal  \\\n",
       "305  Aech|LOC105153097  Cpla|SGF61405  Dqua|LOC106749891  Hsal|LOC105181067   \n",
       "331  Aech|LOC105144379  Cpla|SGF47786  Dqua|LOC106743402  Hsal|LOC105181117   \n",
       "367  Aech|LOC105154742  Cpla|SGF57622  Dqua|LOC106742675  Hsal|LOC105184475   \n",
       "413  Aech|LOC105151083  Cpla|SGF65369  Dqua|LOC106742289  Hsal|LOC105180743   \n",
       "423  Aech|LOC105149040  Cpla|SGF52740  Dqua|LOC106748414  Hsal|LOC105185999   \n",
       "\n",
       "                  Obir           Orug               Sinv  \n",
       "305  Obir|LOC105281216  Orug|SGF68562  Sinv|LOC105201217  \n",
       "331  Obir|LOC105282301  Orug|SGF65534  Sinv|LOC105194815  \n",
       "367  Obir|LOC105281047  Orug|SGF78634  Sinv|LOC105203057  \n",
       "413  Obir|LOC105287676  Orug|SGF86030  Sinv|LOC105198509  \n",
       "423  Obir|LOC105277964  Orug|SGF81562  Sinv|LOC105200782  "
      ]
     },
     "execution_count": 19,
     "metadata": {},
     "output_type": "execute_result"
    }
   ],
   "source": [
    "df_combined.head()"
   ]
  },
  {
   "cell_type": "code",
   "execution_count": 20,
   "metadata": {},
   "outputs": [],
   "source": [
    "cols_to_join = [\"baseMean\",\"log2FoldChange\",\"lfcSE\", \"padj\"]\n",
    "for sp,gen in zip(sp_short,species):\n",
    "    p_to_join = df_pval_dic[gen][cols_to_join]\n",
    "    p_to_join.columns = [ \"{}_{}\".format(sp,c) for c in cols_to_join]\n",
    "    df_combined = df_combined.join(p_to_join, how='left', on=sp)"
   ]
  },
  {
   "cell_type": "code",
   "execution_count": 21,
   "metadata": {},
   "outputs": [
    {
     "data": {
      "text/html": [
       "<div>\n",
       "<style>\n",
       "    .dataframe thead tr:only-child th {\n",
       "        text-align: right;\n",
       "    }\n",
       "\n",
       "    .dataframe thead th {\n",
       "        text-align: left;\n",
       "    }\n",
       "\n",
       "    .dataframe tbody tr th {\n",
       "        vertical-align: top;\n",
       "    }\n",
       "</style>\n",
       "<table border=\"1\" class=\"dataframe\">\n",
       "  <thead>\n",
       "    <tr style=\"text-align: right;\">\n",
       "      <th></th>\n",
       "      <th>Aech</th>\n",
       "      <th>Cpla</th>\n",
       "      <th>Dqua</th>\n",
       "      <th>Hsal</th>\n",
       "      <th>Obir</th>\n",
       "      <th>Orug</th>\n",
       "      <th>Sinv</th>\n",
       "      <th>Dqua_baseMean</th>\n",
       "      <th>Dqua_log2FoldChange</th>\n",
       "      <th>Dqua_lfcSE</th>\n",
       "      <th>...</th>\n",
       "      <th>Obir_lfcSE</th>\n",
       "      <th>Obir_padj</th>\n",
       "      <th>Sinv_baseMean</th>\n",
       "      <th>Sinv_log2FoldChange</th>\n",
       "      <th>Sinv_lfcSE</th>\n",
       "      <th>Sinv_padj</th>\n",
       "      <th>Aech_baseMean</th>\n",
       "      <th>Aech_log2FoldChange</th>\n",
       "      <th>Aech_lfcSE</th>\n",
       "      <th>Aech_padj</th>\n",
       "    </tr>\n",
       "  </thead>\n",
       "  <tbody>\n",
       "    <tr>\n",
       "      <th>305</th>\n",
       "      <td>Aech|LOC105153097</td>\n",
       "      <td>Cpla|SGF61405</td>\n",
       "      <td>Dqua|LOC106749891</td>\n",
       "      <td>Hsal|LOC105181067</td>\n",
       "      <td>Obir|LOC105281216</td>\n",
       "      <td>Orug|SGF68562</td>\n",
       "      <td>Sinv|LOC105201217</td>\n",
       "      <td>1510.157120</td>\n",
       "      <td>0.081555</td>\n",
       "      <td>0.222867</td>\n",
       "      <td>...</td>\n",
       "      <td>0.145160</td>\n",
       "      <td>0.041655</td>\n",
       "      <td>391.232256</td>\n",
       "      <td>-0.051518</td>\n",
       "      <td>0.064114</td>\n",
       "      <td>0.585876</td>\n",
       "      <td>839.829550</td>\n",
       "      <td>-0.005591</td>\n",
       "      <td>0.178168</td>\n",
       "      <td>9.889660e-01</td>\n",
       "    </tr>\n",
       "    <tr>\n",
       "      <th>331</th>\n",
       "      <td>Aech|LOC105144379</td>\n",
       "      <td>Cpla|SGF47786</td>\n",
       "      <td>Dqua|LOC106743402</td>\n",
       "      <td>Hsal|LOC105181117</td>\n",
       "      <td>Obir|LOC105282301</td>\n",
       "      <td>Orug|SGF65534</td>\n",
       "      <td>Sinv|LOC105194815</td>\n",
       "      <td>1583.759274</td>\n",
       "      <td>0.385693</td>\n",
       "      <td>0.383801</td>\n",
       "      <td>...</td>\n",
       "      <td>0.171043</td>\n",
       "      <td>0.992221</td>\n",
       "      <td>226.248598</td>\n",
       "      <td>0.423662</td>\n",
       "      <td>0.110277</td>\n",
       "      <td>0.000781</td>\n",
       "      <td>244.784487</td>\n",
       "      <td>1.460857</td>\n",
       "      <td>0.260457</td>\n",
       "      <td>6.072771e-07</td>\n",
       "    </tr>\n",
       "    <tr>\n",
       "      <th>367</th>\n",
       "      <td>Aech|LOC105154742</td>\n",
       "      <td>Cpla|SGF57622</td>\n",
       "      <td>Dqua|LOC106742675</td>\n",
       "      <td>Hsal|LOC105184475</td>\n",
       "      <td>Obir|LOC105281047</td>\n",
       "      <td>Orug|SGF78634</td>\n",
       "      <td>Sinv|LOC105203057</td>\n",
       "      <td>249.299731</td>\n",
       "      <td>-0.438132</td>\n",
       "      <td>0.234805</td>\n",
       "      <td>...</td>\n",
       "      <td>0.202130</td>\n",
       "      <td>0.871456</td>\n",
       "      <td>407.541439</td>\n",
       "      <td>0.260069</td>\n",
       "      <td>0.092989</td>\n",
       "      <td>0.019039</td>\n",
       "      <td>306.311466</td>\n",
       "      <td>-0.077285</td>\n",
       "      <td>0.157858</td>\n",
       "      <td>7.839781e-01</td>\n",
       "    </tr>\n",
       "    <tr>\n",
       "      <th>413</th>\n",
       "      <td>Aech|LOC105151083</td>\n",
       "      <td>Cpla|SGF65369</td>\n",
       "      <td>Dqua|LOC106742289</td>\n",
       "      <td>Hsal|LOC105180743</td>\n",
       "      <td>Obir|LOC105287676</td>\n",
       "      <td>Orug|SGF86030</td>\n",
       "      <td>Sinv|LOC105198509</td>\n",
       "      <td>902.459992</td>\n",
       "      <td>0.185418</td>\n",
       "      <td>0.298871</td>\n",
       "      <td>...</td>\n",
       "      <td>0.225527</td>\n",
       "      <td>0.789415</td>\n",
       "      <td>45.880269</td>\n",
       "      <td>0.219733</td>\n",
       "      <td>0.253488</td>\n",
       "      <td>0.551058</td>\n",
       "      <td>92.576057</td>\n",
       "      <td>0.841557</td>\n",
       "      <td>0.319319</td>\n",
       "      <td>4.204105e-02</td>\n",
       "    </tr>\n",
       "    <tr>\n",
       "      <th>423</th>\n",
       "      <td>Aech|LOC105149040</td>\n",
       "      <td>Cpla|SGF52740</td>\n",
       "      <td>Dqua|LOC106748414</td>\n",
       "      <td>Hsal|LOC105185999</td>\n",
       "      <td>Obir|LOC105277964</td>\n",
       "      <td>Orug|SGF81562</td>\n",
       "      <td>Sinv|LOC105200782</td>\n",
       "      <td>1946.216627</td>\n",
       "      <td>-0.244684</td>\n",
       "      <td>0.364870</td>\n",
       "      <td>...</td>\n",
       "      <td>0.150755</td>\n",
       "      <td>0.608615</td>\n",
       "      <td>867.414114</td>\n",
       "      <td>0.762431</td>\n",
       "      <td>0.208254</td>\n",
       "      <td>0.001467</td>\n",
       "      <td>102.323539</td>\n",
       "      <td>1.464132</td>\n",
       "      <td>0.233105</td>\n",
       "      <td>1.584354e-08</td>\n",
       "    </tr>\n",
       "  </tbody>\n",
       "</table>\n",
       "<p>5 rows × 35 columns</p>\n",
       "</div>"
      ],
      "text/plain": [
       "                  Aech           Cpla               Dqua               Hsal  \\\n",
       "305  Aech|LOC105153097  Cpla|SGF61405  Dqua|LOC106749891  Hsal|LOC105181067   \n",
       "331  Aech|LOC105144379  Cpla|SGF47786  Dqua|LOC106743402  Hsal|LOC105181117   \n",
       "367  Aech|LOC105154742  Cpla|SGF57622  Dqua|LOC106742675  Hsal|LOC105184475   \n",
       "413  Aech|LOC105151083  Cpla|SGF65369  Dqua|LOC106742289  Hsal|LOC105180743   \n",
       "423  Aech|LOC105149040  Cpla|SGF52740  Dqua|LOC106748414  Hsal|LOC105185999   \n",
       "\n",
       "                  Obir           Orug               Sinv  Dqua_baseMean  \\\n",
       "305  Obir|LOC105281216  Orug|SGF68562  Sinv|LOC105201217    1510.157120   \n",
       "331  Obir|LOC105282301  Orug|SGF65534  Sinv|LOC105194815    1583.759274   \n",
       "367  Obir|LOC105281047  Orug|SGF78634  Sinv|LOC105203057     249.299731   \n",
       "413  Obir|LOC105287676  Orug|SGF86030  Sinv|LOC105198509     902.459992   \n",
       "423  Obir|LOC105277964  Orug|SGF81562  Sinv|LOC105200782    1946.216627   \n",
       "\n",
       "     Dqua_log2FoldChange  Dqua_lfcSE      ...       Obir_lfcSE  Obir_padj  \\\n",
       "305             0.081555    0.222867      ...         0.145160   0.041655   \n",
       "331             0.385693    0.383801      ...         0.171043   0.992221   \n",
       "367            -0.438132    0.234805      ...         0.202130   0.871456   \n",
       "413             0.185418    0.298871      ...         0.225527   0.789415   \n",
       "423            -0.244684    0.364870      ...         0.150755   0.608615   \n",
       "\n",
       "     Sinv_baseMean  Sinv_log2FoldChange  Sinv_lfcSE  Sinv_padj  Aech_baseMean  \\\n",
       "305     391.232256            -0.051518    0.064114   0.585876     839.829550   \n",
       "331     226.248598             0.423662    0.110277   0.000781     244.784487   \n",
       "367     407.541439             0.260069    0.092989   0.019039     306.311466   \n",
       "413      45.880269             0.219733    0.253488   0.551058      92.576057   \n",
       "423     867.414114             0.762431    0.208254   0.001467     102.323539   \n",
       "\n",
       "     Aech_log2FoldChange  Aech_lfcSE     Aech_padj  \n",
       "305            -0.005591    0.178168  9.889660e-01  \n",
       "331             1.460857    0.260457  6.072771e-07  \n",
       "367            -0.077285    0.157858  7.839781e-01  \n",
       "413             0.841557    0.319319  4.204105e-02  \n",
       "423             1.464132    0.233105  1.584354e-08  \n",
       "\n",
       "[5 rows x 35 columns]"
      ]
     },
     "execution_count": 21,
     "metadata": {},
     "output_type": "execute_result"
    }
   ],
   "source": [
    "df_combined.head()"
   ]
  },
  {
   "cell_type": "code",
   "execution_count": 47,
   "metadata": {
    "collapsed": true,
    "editable": false,
    "run_control": {
     "frozen": true
    }
   },
   "outputs": [],
   "source": [
    "# save to file\n",
    "df_combined.to_csv(\"ortholog_pvalue_table.csv\")"
   ]
  },
  {
   "cell_type": "markdown",
   "metadata": {},
   "source": [
    "# Interactively check table for all significant genes\n",
    "This section allows you to interactively view the effect of different significance thresholds and their effect on the number of genes significant in all species."
   ]
  },
  {
   "cell_type": "code",
   "execution_count": 22,
   "metadata": {},
   "outputs": [],
   "source": [
    "pcols = [\"{}_{}\".format(sp,\"padj\") for sp in sp_short]         # a list of all the pvalue columns\n",
    "lfc_cols = [ \"{}_log2FoldChange\".format(s) for s in sp_short ] # a list of all the LFC columns"
   ]
  },
  {
   "cell_type": "code",
   "execution_count": 23,
   "metadata": {},
   "outputs": [],
   "source": [
    "from ipywidgets import interact, interact_manual\n",
    "import ipywidgets as widgets"
   ]
  },
  {
   "cell_type": "code",
   "execution_count": 24,
   "metadata": {},
   "outputs": [],
   "source": [
    "def set_pvalue(thresh=0.05):\n",
    "    mask = (df_combined[pcols] <= thresh).all(axis=1)\n",
    "    print(\"{} ortholog(s) found with all p-values (adjusted) <= {}\".format(mask.sum(), thresh))\n",
    "    return df_combined[mask]"
   ]
  },
  {
   "cell_type": "code",
   "execution_count": 25,
   "metadata": {},
   "outputs": [
    {
     "data": {
      "application/vnd.jupyter.widget-view+json": {
       "model_id": "275a1fe9ae5940299522890d88d25658",
       "version_major": 2,
       "version_minor": 0
      },
      "text/html": [
       "<p>Failed to display Jupyter Widget of type <code>interactive</code>.</p>\n",
       "<p>\n",
       "  If you're reading this message in Jupyter Notebook or JupyterLab, it may mean\n",
       "  that the widgets JavaScript is still loading. If this message persists, it\n",
       "  likely means that the widgets JavaScript library is either not installed or\n",
       "  not enabled. See the <a href=\"https://ipywidgets.readthedocs.io/en/stable/user_install.html\">Jupyter\n",
       "  Widgets Documentation</a> for setup instructions.\n",
       "</p>\n",
       "<p>\n",
       "  If you're reading this message in another notebook frontend (for example, a static\n",
       "  rendering on GitHub or <a href=\"https://nbviewer.jupyter.org/\">NBViewer</a>),\n",
       "  it may mean that your frontend doesn't currently support widgets.\n",
       "</p>\n"
      ],
      "text/plain": [
       "interactive(children=(FloatSlider(value=0.05, description='thresh', max=1.0, step=0.01), Output()), _dom_classes=('widget-interact',))"
      ]
     },
     "metadata": {},
     "output_type": "display_data"
    }
   ],
   "source": [
    "interact(set_pvalue, thresh=(0.0,1.0,0.01) );  # widgets.FloatSlider(min=0.,max=0.5,step=0.01,value=0.05));"
   ]
  },
  {
   "cell_type": "markdown",
   "metadata": {},
   "source": [
    "This last cell shows that there is only one gene that has a p-value (adjusted) ≤ 0.05 in all seven species. This gene is also over-expressed in reproductives in all seven species (ie, it is concordantly expressed in all seven species)."
   ]
  },
  {
   "cell_type": "markdown",
   "metadata": {},
   "source": [
    "#### Check number of orthologous DEGs per species\n",
    "The number of orthologous DEGs will be smaller than the total number of DEGs for each individual species, since only the single-copy orthologs are represented."
   ]
  },
  {
   "cell_type": "code",
   "execution_count": 26,
   "metadata": {},
   "outputs": [
    {
     "name": "stdout",
     "output_type": "stream",
     "text": [
      "SPECIES       ODEGS  DEGs \n",
      "Dinoponera      171   408\n",
      "Odontomachus   2284  5194\n",
      "Harpegnathos     16    35\n",
      "Camponotus     2566  5502\n",
      "Ooceraea        363   784\n",
      "Solenopsis     1925  4116\n",
      "Acromyrmex     1050  2262\n"
     ]
    }
   ],
   "source": [
    "pvs = [ sp + \"_padj\" for sp in sp_short]\n",
    "species_specific_deg_num = []  # this variable is used later for the simulations\n",
    "print(\"{:<13s} {:<6s} {:<5s}\".format(\"SPECIES\", \"ODEGS\", \"DEGs\"))\n",
    "for p,sp in zip(pvs, species):\n",
    "    species_specific_deg_num.append((df_combined[p] <= 0.05).sum())\n",
    "    print(\"{:<13s} {:-5d} {:-5d}\".format(sp, (df_combined[p] <= 0.05).sum(), (df_pval_dic[sp][\"padj\"] <= 0.05).sum()))"
   ]
  },
  {
   "cell_type": "code",
   "execution_count": 27,
   "metadata": {},
   "outputs": [],
   "source": [
    "def view_gene(choice=\"Obir|LOC105278524\"):\n",
    "    # plot the log2FoldChange of all genes of interest\n",
    "    df = df_combined[df_combined.Obir == choice]\n",
    "    if len(df) == 0:\n",
    "        return \"No gene found\"\n",
    "    \n",
    "    ax = df[[\"Obir\"] + lfc_cols].set_index(\"Obir\").plot.bar(figsize=(10,5))\n",
    "\n",
    "    # get the pvalues of these genes:\n",
    "    df_cpvals = df[[\"Obir\"] + pvs].set_index(\"Obir\")\n",
    "\n",
    "    # annotate the signicantly differentially expressed genes with an asterisk\n",
    "    x_pos = [rect.get_x() + rect.get_width()/2. for rect in ax.patches]\n",
    "    y_pos = [rect.get_y() + rect.get_height() -0.35 + 0.2*(rect.get_height())/abs(rect.get_height()) for rect in ax.patches]\n",
    "    scores = [{1:\"*\",0:\"\"}[p<=0.05] for p in df_cpvals.values.flatten(\"F\")]\n",
    "    for rect, x, y, s in zip(ax.patches, x_pos, y_pos, scores):\n",
    "            ax.text(x, \n",
    "                    y,\n",
    "                    s,\n",
    "                    ha='center', va='bottom',\n",
    "                    size=32,\n",
    "                    color='r'\n",
    "                   )\n",
    "\n",
    "    # add axes labels\n",
    "    plt.ylabel(\"log2(fold-change)\", size=16)\n",
    "    plt.yticks(size=14)\n",
    "    plt.xlabel(ax.get_xticklabels()[0].get_text(), size=16)\n",
    "    plt.xticks([], [])\n",
    "    \n",
    "    plt.legend(bbox_to_anchor=(1.05, 1), loc=2, borderaxespad=0.0, prop={'size': 16});"
   ]
  },
  {
   "cell_type": "code",
   "execution_count": 28,
   "metadata": {},
   "outputs": [
    {
     "data": {
      "application/vnd.jupyter.widget-view+json": {
       "model_id": "977bbd80ac084acc9363e03e6c5a7358",
       "version_major": 2,
       "version_minor": 0
      },
      "text/html": [
       "<p>Failed to display Jupyter Widget of type <code>interactive</code>.</p>\n",
       "<p>\n",
       "  If you're reading this message in Jupyter Notebook or JupyterLab, it may mean\n",
       "  that the widgets JavaScript is still loading. If this message persists, it\n",
       "  likely means that the widgets JavaScript library is either not installed or\n",
       "  not enabled. See the <a href=\"https://ipywidgets.readthedocs.io/en/stable/user_install.html\">Jupyter\n",
       "  Widgets Documentation</a> for setup instructions.\n",
       "</p>\n",
       "<p>\n",
       "  If you're reading this message in another notebook frontend (for example, a static\n",
       "  rendering on GitHub or <a href=\"https://nbviewer.jupyter.org/\">NBViewer</a>),\n",
       "  it may mean that your frontend doesn't currently support widgets.\n",
       "</p>\n"
      ],
      "text/plain": [
       "interactive(children=(Text(value='Obir|LOC105278524', description='choice'), Button(description='Run Interact', style=ButtonStyle()), Output()), _dom_classes=('widget-interact',))"
      ]
     },
     "metadata": {},
     "output_type": "display_data"
    }
   ],
   "source": [
    "interact_manual(view_gene, choice=\"Obir|LOC105278524\");"
   ]
  },
  {
   "cell_type": "markdown",
   "metadata": {
    "collapsed": true
   },
   "source": [
    "# Find number of concordant DEGs\n",
    "While there is only a single gene differentially expressed and concordant (ie, expression has the same caste bias in all species) across all six species, there are varied numbers of genes significant and concordant among all the combinations of those six species. Attempting to draw a Venn diagram would be of little use, as it becomes difficult to evaluate each comparison and see trends among so many sets.\n",
    "\n",
    "Thus, here we will identify the number of genes that are signficant and concordant for each possible combination of the six species, and plot the values against the number of species compared."
   ]
  },
  {
   "cell_type": "code",
   "execution_count": 29,
   "metadata": {},
   "outputs": [
    {
     "data": {
      "text/html": [
       "<div>\n",
       "<style>\n",
       "    .dataframe thead tr:only-child th {\n",
       "        text-align: right;\n",
       "    }\n",
       "\n",
       "    .dataframe thead th {\n",
       "        text-align: left;\n",
       "    }\n",
       "\n",
       "    .dataframe tbody tr th {\n",
       "        vertical-align: top;\n",
       "    }\n",
       "</style>\n",
       "<table border=\"1\" class=\"dataframe\">\n",
       "  <thead>\n",
       "    <tr style=\"text-align: right;\">\n",
       "      <th></th>\n",
       "      <th>Dqua_log2FoldChange</th>\n",
       "      <th>Orug_log2FoldChange</th>\n",
       "      <th>Hsal_log2FoldChange</th>\n",
       "      <th>Cpla_log2FoldChange</th>\n",
       "      <th>Obir_log2FoldChange</th>\n",
       "      <th>Sinv_log2FoldChange</th>\n",
       "      <th>Aech_log2FoldChange</th>\n",
       "    </tr>\n",
       "  </thead>\n",
       "  <tbody>\n",
       "    <tr>\n",
       "      <th>2059</th>\n",
       "      <td>1.086033</td>\n",
       "      <td>1.103756</td>\n",
       "      <td>0.898978</td>\n",
       "      <td>1.042466</td>\n",
       "      <td>1.381716</td>\n",
       "      <td>2.441594</td>\n",
       "      <td>2.711926</td>\n",
       "    </tr>\n",
       "  </tbody>\n",
       "</table>\n",
       "</div>"
      ],
      "text/plain": [
       "      Dqua_log2FoldChange  Orug_log2FoldChange  Hsal_log2FoldChange  \\\n",
       "2059             1.086033             1.103756             0.898978   \n",
       "\n",
       "      Cpla_log2FoldChange  Obir_log2FoldChange  Sinv_log2FoldChange  \\\n",
       "2059             1.042466             1.381716             2.441594   \n",
       "\n",
       "      Aech_log2FoldChange  \n",
       "2059             2.711926  "
      ]
     },
     "execution_count": 29,
     "metadata": {},
     "output_type": "execute_result"
    }
   ],
   "source": [
    "mask = (df_combined[pcols] <= 0.05).all(axis=1)\n",
    "df_combined[mask][lfc_cols]"
   ]
  },
  {
   "cell_type": "code",
   "execution_count": 30,
   "metadata": {},
   "outputs": [],
   "source": [
    "from itertools import combinations\n",
    "from collections import Counter"
   ]
  },
  {
   "cell_type": "code",
   "execution_count": 31,
   "metadata": {},
   "outputs": [],
   "source": [
    "c = {i:[] for i in np.arange(len(species)) + 1}\n",
    "for n in np.arange(len(species)) + 1:\n",
    "    for combo in combinations(zip(pcols,lfc_cols), n):\n",
    "        ps,ls = list(zip(*combo))\n",
    "        ps = list(ps)\n",
    "        ls = list(ls)\n",
    "        concordant_degs = ((\n",
    "                            df_combined[ps] <= 0.05\n",
    "                             ).all(axis=1) & (\n",
    "                            abs((df_combined[ls] / abs(df_combined[ls])).sum(axis=1)) == len(ls)\n",
    "                                        ) \n",
    "                            )\n",
    "        #print(\"# sp = {0} # cdegs = {1}\".format(len(ls), concordant_degs.sum()))\n",
    "        c[n].append(concordant_degs.sum())\n",
    "df_cdegs = pd.DataFrame({ k:pd.Series(v) for k,v in c.items()})"
   ]
  },
  {
   "cell_type": "code",
   "execution_count": 60,
   "metadata": {
    "collapsed": true,
    "editable": false,
    "run_control": {
     "frozen": true
    }
   },
   "outputs": [],
   "source": [
    "df_cdegs.to_csv(\"concordant_degs_observed_numbers.csv\")"
   ]
  },
  {
   "cell_type": "code",
   "execution_count": 32,
   "metadata": {},
   "outputs": [
    {
     "data": {
      "image/png": "[encoded data removed]",
      "text/plain": [
       "<matplotlib.figure.Figure at 0x1080494e0>"
      ]
     },
     "metadata": {},
     "output_type": "display_data"
    }
   ],
   "source": [
    "sns.set_style(\"whitegrid\")\n",
    "fig = plt.figure(figsize=(10,6))\n",
    "ax = fig.add_subplot()\n",
    "ax = sns.boxplot(data=df_cdegs, color=\"steelblue\", ax=ax)\n",
    "\n",
    "medians = df_cdegs.median().values\n",
    "median_labels = [str(x) for x in medians]\n",
    "\n",
    "pos = np.arange(len(medians)) \n",
    "for tick,label in zip(pos,ax.get_xticklabels()):\n",
    "    ax.text(pos[tick], \n",
    "            medians[tick] + 40, \n",
    "            median_labels[tick], \n",
    "            horizontalalignment='center', size=12, color='k', weight='semibold')\n",
    "    \n",
    "    \n",
    "plt.title(\"Number of DEGs concordant across all combinations of six ant species\")\n",
    "plt.xlabel(\"Number of species compared\", size=16)\n",
    "plt.ylabel(\"Number of concordant DEGs\", size=16)\n",
    "plt.xticks(size=14)\n",
    "plt.yticks(size=14)\n",
    "plt.savefig(\"concordant_degs_observed.png\")"
   ]
  },
  {
   "cell_type": "markdown",
   "metadata": {
    "collapsed": true
   },
   "source": [
    "# Calculate average concordance"
   ]
  },
  {
   "cell_type": "code",
   "execution_count": 33,
   "metadata": {},
   "outputs": [
    {
     "name": "stdout",
     "output_type": "stream",
     "text": [
      "4.69% of genes are concordant in all 7 species\n"
     ]
    }
   ],
   "source": [
    "lfc = [ sp + \"_log2FoldChange\" for sp in sp_short ]\n",
    "# convert log fold changes into the direction:\n",
    "df_direction = df_combined[lfc] / abs(df_combined[lfc])\n",
    "\n",
    "# count number of genes concordant across all spp:\n",
    "print(\"{:.2f}% of genes are concordant in all {:d} species\".format(\n",
    "            100 * (abs(df_direction.sum(axis=1)) == len(species)).sum() / len(df_direction),\n",
    "            len(species))\n",
    "     )"
   ]
  },
  {
   "cell_type": "code",
   "execution_count": 34,
   "metadata": {},
   "outputs": [
    {
     "name": "stdout",
     "output_type": "stream",
     "text": [
      "Dqua|Orug 53.68%\n",
      "Dqua|Hsal 52.95%\n",
      "Dqua|Cpla 54.42%\n",
      "Dqua|Obir 50.82%\n",
      "Dqua|Sinv 53.06%\n",
      "Dqua|Aech 52.41%\n",
      "Orug|Hsal 37.61%\n",
      "Orug|Cpla 77.94%\n",
      "Orug|Obir 56.89%\n",
      "Orug|Sinv 57.50%\n",
      "Orug|Aech 58.63%\n",
      "Hsal|Cpla 36.96%\n",
      "Hsal|Obir 49.27%\n",
      "Hsal|Sinv 46.01%\n",
      "Hsal|Aech 41.46%\n",
      "Cpla|Obir 56.98%\n",
      "Cpla|Sinv 59.24%\n",
      "Cpla|Aech 60.65%\n",
      "Obir|Sinv 60.63%\n",
      "Obir|Aech 55.37%\n",
      "Sinv|Aech 66.42%\n",
      "\n",
      "54.233% average concordance between any two genes\n"
     ]
    }
   ],
   "source": [
    "conc_list = []\n",
    "for sp1,sp2 in combinations(lfc,2):\n",
    "    conc_list.append((abs(df_direction[[sp1,sp2]].sum(axis=1)) == 2).sum() / len(df_direction))\n",
    "    print(\"{}|{} {:.2f}%\".format(sp1[:4],sp2[:4],100*conc_list[-1]))\n",
    "print(\"\\n{:.3f}% average concordance between any two genes\".format(np.mean(conc_list) * 100))"
   ]
  },
  {
   "cell_type": "markdown",
   "metadata": {},
   "source": [
    "# Concordance Simulations"
   ]
  },
  {
   "cell_type": "code",
   "execution_count": 35,
   "metadata": {},
   "outputs": [],
   "source": [
    "import tempfile\n",
    "import itertools\n",
    "import random\n",
    "import re\n",
    "import datetime\n",
    "from collections import Counter"
   ]
  },
  {
   "cell_type": "code",
   "execution_count": 36,
   "metadata": {},
   "outputs": [],
   "source": [
    "from multiprocessing import Pool"
   ]
  },
  {
   "cell_type": "code",
   "execution_count": 37,
   "metadata": {},
   "outputs": [],
   "source": [
    "def assign_polarity(concordance=0.54):\n",
    "    \"\"\"\n",
    "    concordance is the probability that two genes have the same polarity.\n",
    "    the probability of assigning a direction to a gene, such that this concordance\n",
    "    probability is met, is determined from the quadratic equation:\n",
    "\n",
    "    Pr(concordant) = p^2 + q^2   where p is the probability of being assigned +ve\n",
    "                                and q is the probability of being assigned -ve\n",
    "    (p + q) = 1\n",
    "\n",
    "    therefore, Pr(concordant) = 1 - 2p + 2p^2\n",
    "\n",
    "    or,        2p^2 - 2p + 1 - Pr(conc) = 0\n",
    "    therefore                         p = (2 - sqrt(4 - 8 * (1-Pr)) ) / 4\n",
    "    \"\"\"\n",
    "    # calculate p, the probability that a gene is positive:\n",
    "    p = (2 - np.sqrt(4 - 8 * (1-concordance)) ) / 4\n",
    "\n",
    "    # calculate a random number, then see if it is greater than or less than 1000p\n",
    "    marker = random.randint(0,999)\n",
    "    if marker >= 1000 * p:\n",
    "        return '+'\n",
    "    else:\n",
    "        return '-'"
   ]
  },
  {
   "cell_type": "code",
   "execution_count": 38,
   "metadata": {},
   "outputs": [],
   "source": [
    "# to run simulations with values different from the observed number of DEGs in each species, \n",
    "# modify the following variable:\n",
    "# species_specific_deg_num = [170, 2283, 2565, 365, 1938, 1060]\n",
    "\n",
    "total_orthos=5541\n",
    "concordance=0.54\n",
    "iterations=1000"
   ]
  },
  {
   "cell_type": "code",
   "execution_count": 39,
   "metadata": {},
   "outputs": [],
   "source": [
    "def count_common(concordance=0.54,total_orthos=5541, species_specific_deg_num=[170, 2283, 2565, 365, 1938, 1060]):\n",
    "    df = pd.DataFrame({x:[ concordance for i in range(total_orthos) ] for x in range(len(species_specific_deg_num))})\n",
    "    for i,d in enumerate(species_specific_deg_num):\n",
    "        d = int(d)\n",
    "\n",
    "        # sample a random set of degs\n",
    "        degs = random.sample(list(df.index), d) \n",
    "\n",
    "        # replace the \"degs\" with a polarity. The other genes become Nan:\n",
    "        df[i] = df.iloc[degs][i].apply(assign_polarity)\n",
    "\n",
    "    # count the number of rows (genes) that are all significant (no Nan) and all same polarity\n",
    "    # this value is identical to the max key value stored below\n",
    "    # cd_all = df.dropna(axis=0).apply(lambda x: min(x) == max(x), 1).sum()\n",
    "    \n",
    "    \n",
    "    # iterate through all subsets for all subset sizes:\n",
    "    c = { s:{} for s in (np.arange(len(df.columns) - 1) + 2)}\n",
    "    for s in c.keys():\n",
    "        for x in itertools.combinations(df.columns,s):\n",
    "            cd = df[list(x)].dropna(axis=0).apply(lambda x: min(x) == max(x), 1).sum()\n",
    "            if not isinstance(cd, np.int64):\n",
    "                cd = 0\n",
    "            c[s][\",\".join(str(i) for i in x)] = cd\n",
    "    return c"
   ]
  },
  {
   "cell_type": "code",
   "execution_count": 40,
   "metadata": {},
   "outputs": [],
   "source": [
    "def update_df_cum(df_cum, c):\n",
    "    df_iter = pd.DataFrame({i:pd.Series(list(c[i].values())) for i in c})\n",
    "    df_cum = df_cum.append(df_iter, ignore_index=True)\n",
    "    return df_cum"
   ]
  },
  {
   "cell_type": "code",
   "execution_count": 41,
   "metadata": {},
   "outputs": [],
   "source": [
    "# initialise the df storing all overlap results\n",
    "all_overlaps = { s:{} for s in (np.arange(len(species_specific_deg_num) - 1) + 2) }\n",
    "df_cum = pd.DataFrame(all_overlaps)"
   ]
  },
  {
   "cell_type": "code",
   "execution_count": 42,
   "metadata": {},
   "outputs": [],
   "source": [
    "try:\n",
    "    # Create a multiprocessing Pool\n",
    "    pool = Pool(processes=4)      \n",
    "\n",
    "    # proces data_inputs iterable with pool\n",
    "    overlap_dics = pool.starmap(count_common, \n",
    "                                 [(concordance,\n",
    "                                   total_orthos,\n",
    "                                   species_specific_deg_num,\n",
    "                                   ) for i in range(iterations)])      \n",
    "finally:\n",
    "    pool.close()\n",
    "    pool.join()"
   ]
  },
  {
   "cell_type": "code",
   "execution_count": 43,
   "metadata": {},
   "outputs": [],
   "source": [
    "# having finished processing, we now collate all results together into the dataframe\n",
    "for c in overlap_dics:\n",
    "    df_cum = update_df_cum(df_cum, c)\n",
    "df_cum = df_cum.reset_index()"
   ]
  },
  {
   "cell_type": "code",
   "execution_count": 44,
   "metadata": {},
   "outputs": [
    {
     "name": "stderr",
     "output_type": "stream",
     "text": [
      "/anaconda/envs/jupyterlab/lib/python3.6/site-packages/matplotlib/cbook.py:2052: RuntimeWarning: invalid value encountered in double_scalars\n",
      "  loval = q1 - whis * stats['iqr']\n",
      "/anaconda/envs/jupyterlab/lib/python3.6/site-packages/matplotlib/cbook.py:2053: RuntimeWarning: invalid value encountered in double_scalars\n",
      "  hival = q3 + whis * stats['iqr']\n",
      "/anaconda/envs/jupyterlab/lib/python3.6/site-packages/matplotlib/cbook.py:2066: RuntimeWarning: invalid value encountered in less_equal\n",
      "  wiskhi = np.compress(x <= hival, x)\n",
      "/anaconda/envs/jupyterlab/lib/python3.6/site-packages/matplotlib/cbook.py:2073: RuntimeWarning: invalid value encountered in greater_equal\n",
      "  wisklo = np.compress(x >= loval, x)\n"
     ]
    },
    {
     "data": {
      "image/png": "[encoded data removed]",
      "text/plain": [
       "<matplotlib.figure.Figure at 0x115a70550>"
      ]
     },
     "metadata": {},
     "output_type": "display_data"
    }
   ],
   "source": [
    "sns.set_style(\"whitegrid\")\n",
    "set_sizes = list(np.arange(2,len(species)+1,1))\n",
    "\n",
    "fig = plt.figure(figsize=(10,6))\n",
    "ax = fig.add_subplot()\n",
    "ax = sns.boxplot( data=df_cum[set_sizes],\n",
    "                 whis=np.inf, \n",
    "                 color=\"orange\",\n",
    "                 ax=ax,\n",
    "                )\n",
    "\n",
    "medians = df_cum[set_sizes].median().values\n",
    "median_labels = [str(np.round(s, 2)) for s in medians]\n",
    "\n",
    "pos = range(len(medians))\n",
    "for tick,label in zip(pos,ax.get_xticklabels()):\n",
    "    ax.text(pos[tick], medians[tick] + 20, median_labels[tick], \n",
    "            horizontalalignment='center', size=16, color='k', weight='semibold')\n",
    "plt.xlabel(\"Number of species compared\", size=20)\n",
    "plt.ylabel(\"Number of genes both\\nsignficant and concordant\", size=20)\n",
    "plt.xticks(size=14)\n",
    "plt.yticks(size=14)\n",
    "plt.savefig(\"concordance_simulation.png\")"
   ]
  },
  {
   "cell_type": "markdown",
   "metadata": {},
   "source": [
    "# combine both datasets\n",
    "To be able to plot the boxplots on the same figure, we must combine the data. This will also mean rearranging it into linear form. We can thus create a column that references the origin of the data (simulated or observed), and call that as the hue variable for a multi-variable boxplot in seaborn."
   ]
  },
  {
   "cell_type": "code",
   "execution_count": 45,
   "metadata": {},
   "outputs": [],
   "source": [
    "# renaming to make it easier to follow\n",
    "df_obs = df_cdegs\n",
    "df_sim = df_cum"
   ]
  },
  {
   "cell_type": "code",
   "execution_count": 46,
   "metadata": {},
   "outputs": [],
   "source": [
    "df_obs_st = df_obs.stack()\n",
    "df_sim_st = df_sim.iloc[:,1:].stack()"
   ]
  },
  {
   "cell_type": "code",
   "execution_count": 47,
   "metadata": {},
   "outputs": [
    {
     "data": {
      "text/html": [
       "<div>\n",
       "<style>\n",
       "    .dataframe thead tr:only-child th {\n",
       "        text-align: right;\n",
       "    }\n",
       "\n",
       "    .dataframe thead th {\n",
       "        text-align: left;\n",
       "    }\n",
       "\n",
       "    .dataframe tbody tr th {\n",
       "        vertical-align: top;\n",
       "    }\n",
       "</style>\n",
       "<table border=\"1\" class=\"dataframe\">\n",
       "  <thead>\n",
       "    <tr style=\"text-align: right;\">\n",
       "      <th></th>\n",
       "      <th>iteration</th>\n",
       "      <th>group_size</th>\n",
       "      <th>origin</th>\n",
       "      <th>y</th>\n",
       "      <th>logy</th>\n",
       "      <th>logy_adj</th>\n",
       "    </tr>\n",
       "  </thead>\n",
       "  <tbody>\n",
       "    <tr>\n",
       "      <th>120115</th>\n",
       "      <td>34994</td>\n",
       "      <td>3</td>\n",
       "      <td>sim</td>\n",
       "      <td>0.0</td>\n",
       "      <td>-1.0</td>\n",
       "      <td>-1.5</td>\n",
       "    </tr>\n",
       "    <tr>\n",
       "      <th>120116</th>\n",
       "      <td>34994</td>\n",
       "      <td>4</td>\n",
       "      <td>sim</td>\n",
       "      <td>0.0</td>\n",
       "      <td>-1.0</td>\n",
       "      <td>-1.5</td>\n",
       "    </tr>\n",
       "    <tr>\n",
       "      <th>120118</th>\n",
       "      <td>34995</td>\n",
       "      <td>4</td>\n",
       "      <td>sim</td>\n",
       "      <td>0.0</td>\n",
       "      <td>-1.0</td>\n",
       "      <td>-1.5</td>\n",
       "    </tr>\n",
       "    <tr>\n",
       "      <th>120120</th>\n",
       "      <td>34996</td>\n",
       "      <td>4</td>\n",
       "      <td>sim</td>\n",
       "      <td>0.0</td>\n",
       "      <td>-1.0</td>\n",
       "      <td>-1.5</td>\n",
       "    </tr>\n",
       "    <tr>\n",
       "      <th>120124</th>\n",
       "      <td>34998</td>\n",
       "      <td>4</td>\n",
       "      <td>sim</td>\n",
       "      <td>0.0</td>\n",
       "      <td>-1.0</td>\n",
       "      <td>-1.5</td>\n",
       "    </tr>\n",
       "  </tbody>\n",
       "</table>\n",
       "</div>"
      ],
      "text/plain": [
       "        iteration  group_size origin    y  logy  logy_adj\n",
       "120115      34994           3    sim  0.0  -1.0      -1.5\n",
       "120116      34994           4    sim  0.0  -1.0      -1.5\n",
       "120118      34995           4    sim  0.0  -1.0      -1.5\n",
       "120120      34996           4    sim  0.0  -1.0      -1.5\n",
       "120124      34998           4    sim  0.0  -1.0      -1.5"
      ]
     },
     "execution_count": 47,
     "metadata": {},
     "output_type": "execute_result"
    }
   ],
   "source": [
    "df_obs_sim = pd.DataFrame({\"y\":df_obs_st, \"origin\":[\"obs\"]*len(df_obs_st)})\n",
    "df_obs_sim = df_obs_sim.append(pd.DataFrame({\"y\":df_sim_st, \"origin\":[\"sim\"]*len(df_sim_st)}))\n",
    "df_obs_sim = df_obs_sim.reset_index()\n",
    "df_obs_sim.columns = [\"iteration\", \"group_size\", \"origin\", \"y\"]\n",
    "df_obs_sim[\"logy\"] = df_obs_sim.y.apply(lambda x: np.log2(x + 0.5)) # take the log of x + 0.5\n",
    "# for graphing original values on log scale, shift back by 0.5 for zero values:\n",
    "df_obs_sim[\"logy_adj\"] = df_obs_sim.logy - 0.5 \n",
    "\n",
    "# view last few rows\n",
    "df_obs_sim[df_obs_sim.y == 0].tail()"
   ]
  },
  {
   "cell_type": "code",
   "execution_count": 48,
   "metadata": {},
   "outputs": [
    {
     "name": "stderr",
     "output_type": "stream",
     "text": [
      "/anaconda/envs/jupyterlab/lib/python3.6/site-packages/ipykernel_launcher.py:3: SettingWithCopyWarning: \n",
      "A value is trying to be set on a copy of a slice from a DataFrame.\n",
      "Try using .loc[row_indexer,col_indexer] = value instead\n",
      "\n",
      "See the caveats in the documentation: http://pandas.pydata.org/pandas-docs/stable/indexing.html#indexing-view-versus-copy\n",
      "  This is separate from the ipykernel package so we can avoid doing imports until\n"
     ]
    },
    {
     "data": {
      "text/html": [
       "<div>\n",
       "<style>\n",
       "    .dataframe thead tr:only-child th {\n",
       "        text-align: right;\n",
       "    }\n",
       "\n",
       "    .dataframe thead th {\n",
       "        text-align: left;\n",
       "    }\n",
       "\n",
       "    .dataframe tbody tr th {\n",
       "        vertical-align: top;\n",
       "    }\n",
       "</style>\n",
       "<table border=\"1\" class=\"dataframe\">\n",
       "  <thead>\n",
       "    <tr style=\"text-align: right;\">\n",
       "      <th></th>\n",
       "      <th>iteration</th>\n",
       "      <th>group_size</th>\n",
       "      <th>origin</th>\n",
       "      <th>y</th>\n",
       "      <th>logy</th>\n",
       "      <th>logy_adj</th>\n",
       "    </tr>\n",
       "  </thead>\n",
       "  <tbody>\n",
       "    <tr>\n",
       "      <th>0</th>\n",
       "      <td>0</td>\n",
       "      <td>1</td>\n",
       "      <td>obs</td>\n",
       "      <td>171.0</td>\n",
       "      <td>7.422065</td>\n",
       "      <td>6.922065</td>\n",
       "    </tr>\n",
       "    <tr>\n",
       "      <th>7</th>\n",
       "      <td>1</td>\n",
       "      <td>1</td>\n",
       "      <td>obs</td>\n",
       "      <td>2284.0</td>\n",
       "      <td>11.157663</td>\n",
       "      <td>10.657663</td>\n",
       "    </tr>\n",
       "    <tr>\n",
       "      <th>13</th>\n",
       "      <td>2</td>\n",
       "      <td>1</td>\n",
       "      <td>obs</td>\n",
       "      <td>16.0</td>\n",
       "      <td>4.044394</td>\n",
       "      <td>3.544394</td>\n",
       "    </tr>\n",
       "    <tr>\n",
       "      <th>19</th>\n",
       "      <td>3</td>\n",
       "      <td>1</td>\n",
       "      <td>obs</td>\n",
       "      <td>2566.0</td>\n",
       "      <td>11.325587</td>\n",
       "      <td>10.825587</td>\n",
       "    </tr>\n",
       "    <tr>\n",
       "      <th>25</th>\n",
       "      <td>4</td>\n",
       "      <td>1</td>\n",
       "      <td>obs</td>\n",
       "      <td>363.0</td>\n",
       "      <td>8.505812</td>\n",
       "      <td>8.005812</td>\n",
       "    </tr>\n",
       "    <tr>\n",
       "      <th>31</th>\n",
       "      <td>5</td>\n",
       "      <td>1</td>\n",
       "      <td>obs</td>\n",
       "      <td>1925.0</td>\n",
       "      <td>10.911017</td>\n",
       "      <td>10.411017</td>\n",
       "    </tr>\n",
       "    <tr>\n",
       "      <th>37</th>\n",
       "      <td>6</td>\n",
       "      <td>1</td>\n",
       "      <td>obs</td>\n",
       "      <td>1050.0</td>\n",
       "      <td>10.036860</td>\n",
       "      <td>9.536860</td>\n",
       "    </tr>\n",
       "    <tr>\n",
       "      <th>0</th>\n",
       "      <td>0</td>\n",
       "      <td>1</td>\n",
       "      <td>sim</td>\n",
       "      <td>171.0</td>\n",
       "      <td>7.422065</td>\n",
       "      <td>6.922065</td>\n",
       "    </tr>\n",
       "    <tr>\n",
       "      <th>7</th>\n",
       "      <td>1</td>\n",
       "      <td>1</td>\n",
       "      <td>sim</td>\n",
       "      <td>2284.0</td>\n",
       "      <td>11.157663</td>\n",
       "      <td>10.657663</td>\n",
       "    </tr>\n",
       "    <tr>\n",
       "      <th>13</th>\n",
       "      <td>2</td>\n",
       "      <td>1</td>\n",
       "      <td>sim</td>\n",
       "      <td>16.0</td>\n",
       "      <td>4.044394</td>\n",
       "      <td>3.544394</td>\n",
       "    </tr>\n",
       "    <tr>\n",
       "      <th>19</th>\n",
       "      <td>3</td>\n",
       "      <td>1</td>\n",
       "      <td>sim</td>\n",
       "      <td>2566.0</td>\n",
       "      <td>11.325587</td>\n",
       "      <td>10.825587</td>\n",
       "    </tr>\n",
       "    <tr>\n",
       "      <th>25</th>\n",
       "      <td>4</td>\n",
       "      <td>1</td>\n",
       "      <td>sim</td>\n",
       "      <td>363.0</td>\n",
       "      <td>8.505812</td>\n",
       "      <td>8.005812</td>\n",
       "    </tr>\n",
       "    <tr>\n",
       "      <th>31</th>\n",
       "      <td>5</td>\n",
       "      <td>1</td>\n",
       "      <td>sim</td>\n",
       "      <td>1925.0</td>\n",
       "      <td>10.911017</td>\n",
       "      <td>10.411017</td>\n",
       "    </tr>\n",
       "    <tr>\n",
       "      <th>37</th>\n",
       "      <td>6</td>\n",
       "      <td>1</td>\n",
       "      <td>sim</td>\n",
       "      <td>1050.0</td>\n",
       "      <td>10.036860</td>\n",
       "      <td>9.536860</td>\n",
       "    </tr>\n",
       "  </tbody>\n",
       "</table>\n",
       "</div>"
      ],
      "text/plain": [
       "    iteration  group_size origin       y       logy   logy_adj\n",
       "0           0           1    obs   171.0   7.422065   6.922065\n",
       "7           1           1    obs  2284.0  11.157663  10.657663\n",
       "13          2           1    obs    16.0   4.044394   3.544394\n",
       "19          3           1    obs  2566.0  11.325587  10.825587\n",
       "25          4           1    obs   363.0   8.505812   8.005812\n",
       "31          5           1    obs  1925.0  10.911017  10.411017\n",
       "37          6           1    obs  1050.0  10.036860   9.536860\n",
       "0           0           1    sim   171.0   7.422065   6.922065\n",
       "7           1           1    sim  2284.0  11.157663  10.657663\n",
       "13          2           1    sim    16.0   4.044394   3.544394\n",
       "19          3           1    sim  2566.0  11.325587  10.825587\n",
       "25          4           1    sim   363.0   8.505812   8.005812\n",
       "31          5           1    sim  1925.0  10.911017  10.411017\n",
       "37          6           1    sim  1050.0  10.036860   9.536860"
      ]
     },
     "execution_count": 48,
     "metadata": {},
     "output_type": "execute_result"
    }
   ],
   "source": [
    "# add a column of \"simulated\" single species groups (which will equal the observed values)\n",
    "df_singles = df_obs_sim[df_obs_sim.group_size == 1]\n",
    "df_singles[\"origin\"] = \"sim\"\n",
    "df_obs_sim = df_obs_sim.append(df_singles,)\n",
    "df_obs_sim[df_obs_sim.group_size == 1]"
   ]
  },
  {
   "cell_type": "code",
   "execution_count": 49,
   "metadata": {
    "scrolled": false
   },
   "outputs": [
    {
     "data": {
      "image/png": "[encoded data removed]",
      "text/plain": [
       "<matplotlib.figure.Figure at 0x115b62da0>"
      ]
     },
     "metadata": {},
     "output_type": "display_data"
    }
   ],
   "source": [
    "fig = plt.figure(figsize=(10,6))\n",
    "ax = fig.add_subplot()\n",
    "ax = sns.boxplot(data=df_obs_sim, x=\"group_size\", y=\"logy_adj\", hue=\"origin\",ax=ax)\n",
    "\n",
    "medians = 2 ** df_obs_sim.groupby([\"group_size\", \"origin\"])[\"logy\"].median().values\n",
    "median_labels = [\"{:.0f}\".format(np.round(s-0.5, 1)) for s in medians]\n",
    "\n",
    "pos = range(len(medians))\n",
    "for box,grp,aln,clr in zip(pos,\n",
    "                       [0,0,1,1,2,2,3,3,4,4,5,5,6,6],                             # data point\n",
    "                       ['r','l','r','l','r','l','r','l','r','l','r','l','r','l'], # text justification\n",
    "                       ['k','k','k','k','k','k','k','k','k','r','b','r','b','r'], # text color\n",
    "                      ):\n",
    "    \n",
    "    # annotate each box with the median:\n",
    "    ax.text(pos[box]/2.0 - 0.25, np.log2(medians[box])- 0.25 , median_labels[box], \n",
    "            horizontalalignment={'l':'center','r':'center'}[aln], \n",
    "            size=12, color=clr, weight='semibold')\n",
    "\n",
    "# label axes \n",
    "plt.xticks(size=14)\n",
    "plt.yticks(ax.get_yticks(), \n",
    "           [\"{:.0f}\".format(yv) for yv in 2 ** ax.get_yticks()], # set y-axis to non-log values\n",
    "           size=14)\n",
    "plt.ylabel(\"Number of common DEGs\", size=18)\n",
    "plt.xlabel(\"Number of species compared\", size=18)\n",
    "\n",
    "plt.legend( prop={'size': 16})\n",
    "\n",
    "# save to file\n",
    "plt.savefig(\"concordantDEGs_singlePlot_logScale.png\")"
   ]
  },
  {
   "cell_type": "markdown",
   "metadata": {},
   "source": [
    "# Want to know more?\n",
    "* Try out Jupyter yourself: https://anaconda.org\n",
    "* Sharing code with MyBinder: https://mybinder.org\n",
    "* Jupyterhub - collaborative access to notebooks\n",
    "* Jupyterlab - the next generation of jupyter notebooks\n",
    "    * simultaneous coding in notebooks\n",
    "    * drag and drop cells between notebooks\n",
    "    * chat box with drag and drop"
   ]
  },
  {
   "cell_type": "code",
   "execution_count": null,
   "metadata": {},
   "outputs": [],
   "source": []
  }
 ],
 "metadata": {
  "anaconda-cloud": {},
  "kernelspec": {
   "display_name": "Python 3",
   "language": "python",
   "name": "python3"
  },
  "language_info": {
   "codemirror_mode": {
    "name": "ipython",
    "version": 3
   },
   "file_extension": ".py",
   "mimetype": "text/x-python",
   "name": "python",
   "nbconvert_exporter": "python",
   "pygments_lexer": "ipython3",
   "version": "3.6.2"
  },
  "toc": {
   "colors": {
    "hover_highlight": "#DAA520",
    "navigate_num": "#000000",
    "navigate_text": "#333333",
    "running_highlight": "#FF0000",
    "selected_highlight": "#FFD700",
    "sidebar_border": "#EEEEEE",
    "wrapper_background": "#FFFFFF"
   },
   "moveMenuLeft": true,
   "nav_menu": {
    "height": "66px",
    "width": "252px"
   },
   "navigate_menu": true,
   "number_sections": false,
   "sideBar": true,
   "threshold": 4,
   "toc_cell": true,
   "toc_section_display": "block",
   "toc_window_display": false,
   "widenNotebook": false
  }
 },
 "nbformat": 4,
 "nbformat_minor": 2
}
